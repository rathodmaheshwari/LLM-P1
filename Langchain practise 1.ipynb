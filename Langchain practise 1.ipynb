{
 "cells": [
  {
   "cell_type": "code",
   "execution_count": 12,
   "id": "5f40b3a2-0fa2-4ecb-98f7-abe1c8a26a29",
   "metadata": {},
   "outputs": [],
   "source": [
    "from langchain_community.document_loaders import TextLoader"
   ]
  },
  {
   "cell_type": "code",
   "execution_count": 3,
   "id": "bcb5345f-c6f1-421c-ae5f-5dc4b73908b6",
   "metadata": {},
   "outputs": [],
   "source": [
    "import os\n"
   ]
  },
  {
   "cell_type": "code",
   "execution_count": 5,
   "id": "39501da9-d0a7-46e0-b21d-992738c1678b",
   "metadata": {},
   "outputs": [
    {
     "name": "stdout",
     "output_type": "stream",
     "text": [
      "Requirement already satisfied: langchain in c:\\users\\maheshwari rathod\\anaconda3\\lib\\site-packages (0.3.18)\n",
      "Requirement already satisfied: langchain-core<1.0.0,>=0.3.34 in c:\\users\\maheshwari rathod\\anaconda3\\lib\\site-packages (from langchain) (0.3.35)\n",
      "Requirement already satisfied: langchain-text-splitters<1.0.0,>=0.3.6 in c:\\users\\maheshwari rathod\\anaconda3\\lib\\site-packages (from langchain) (0.3.6)\n",
      "Requirement already satisfied: langsmith<0.4,>=0.1.17 in c:\\users\\maheshwari rathod\\anaconda3\\lib\\site-packages (from langchain) (0.3.8)\n",
      "Requirement already satisfied: pydantic<3.0.0,>=2.7.4 in c:\\users\\maheshwari rathod\\anaconda3\\lib\\site-packages (from langchain) (2.8.2)\n",
      "Requirement already satisfied: SQLAlchemy<3,>=1.4 in c:\\users\\maheshwari rathod\\anaconda3\\lib\\site-packages (from langchain) (2.0.34)\n",
      "Requirement already satisfied: requests<3,>=2 in c:\\users\\maheshwari rathod\\anaconda3\\lib\\site-packages (from langchain) (2.32.3)\n",
      "Requirement already satisfied: PyYAML>=5.3 in c:\\users\\maheshwari rathod\\anaconda3\\lib\\site-packages (from langchain) (6.0.1)\n",
      "Requirement already satisfied: aiohttp<4.0.0,>=3.8.3 in c:\\users\\maheshwari rathod\\anaconda3\\lib\\site-packages (from langchain) (3.10.5)\n",
      "Requirement already satisfied: tenacity!=8.4.0,<10,>=8.1.0 in c:\\users\\maheshwari rathod\\anaconda3\\lib\\site-packages (from langchain) (8.2.3)\n",
      "Requirement already satisfied: numpy<3,>=1.26.2 in c:\\users\\maheshwari rathod\\anaconda3\\lib\\site-packages (from langchain) (1.26.4)\n",
      "Requirement already satisfied: aiohappyeyeballs>=2.3.0 in c:\\users\\maheshwari rathod\\anaconda3\\lib\\site-packages (from aiohttp<4.0.0,>=3.8.3->langchain) (2.4.0)\n",
      "Requirement already satisfied: aiosignal>=1.1.2 in c:\\users\\maheshwari rathod\\anaconda3\\lib\\site-packages (from aiohttp<4.0.0,>=3.8.3->langchain) (1.2.0)\n",
      "Requirement already satisfied: attrs>=17.3.0 in c:\\users\\maheshwari rathod\\anaconda3\\lib\\site-packages (from aiohttp<4.0.0,>=3.8.3->langchain) (23.1.0)\n",
      "Requirement already satisfied: frozenlist>=1.1.1 in c:\\users\\maheshwari rathod\\anaconda3\\lib\\site-packages (from aiohttp<4.0.0,>=3.8.3->langchain) (1.4.0)\n",
      "Requirement already satisfied: multidict<7.0,>=4.5 in c:\\users\\maheshwari rathod\\anaconda3\\lib\\site-packages (from aiohttp<4.0.0,>=3.8.3->langchain) (6.0.4)\n",
      "Requirement already satisfied: yarl<2.0,>=1.0 in c:\\users\\maheshwari rathod\\anaconda3\\lib\\site-packages (from aiohttp<4.0.0,>=3.8.3->langchain) (1.11.0)\n",
      "Requirement already satisfied: jsonpatch<2.0,>=1.33 in c:\\users\\maheshwari rathod\\anaconda3\\lib\\site-packages (from langchain-core<1.0.0,>=0.3.34->langchain) (1.33)\n",
      "Requirement already satisfied: packaging<25,>=23.2 in c:\\users\\maheshwari rathod\\anaconda3\\lib\\site-packages (from langchain-core<1.0.0,>=0.3.34->langchain) (24.1)\n",
      "Requirement already satisfied: typing-extensions>=4.7 in c:\\users\\maheshwari rathod\\anaconda3\\lib\\site-packages (from langchain-core<1.0.0,>=0.3.34->langchain) (4.11.0)\n",
      "Requirement already satisfied: httpx<1,>=0.23.0 in c:\\users\\maheshwari rathod\\anaconda3\\lib\\site-packages (from langsmith<0.4,>=0.1.17->langchain) (0.27.0)\n",
      "Requirement already satisfied: orjson<4.0.0,>=3.9.14 in c:\\users\\maheshwari rathod\\anaconda3\\lib\\site-packages (from langsmith<0.4,>=0.1.17->langchain) (3.10.15)\n",
      "Requirement already satisfied: requests-toolbelt<2.0.0,>=1.0.0 in c:\\users\\maheshwari rathod\\anaconda3\\lib\\site-packages (from langsmith<0.4,>=0.1.17->langchain) (1.0.0)\n",
      "Requirement already satisfied: zstandard<0.24.0,>=0.23.0 in c:\\users\\maheshwari rathod\\anaconda3\\lib\\site-packages (from langsmith<0.4,>=0.1.17->langchain) (0.23.0)\n",
      "Requirement already satisfied: annotated-types>=0.4.0 in c:\\users\\maheshwari rathod\\anaconda3\\lib\\site-packages (from pydantic<3.0.0,>=2.7.4->langchain) (0.6.0)\n",
      "Requirement already satisfied: pydantic-core==2.20.1 in c:\\users\\maheshwari rathod\\anaconda3\\lib\\site-packages (from pydantic<3.0.0,>=2.7.4->langchain) (2.20.1)\n",
      "Requirement already satisfied: charset-normalizer<4,>=2 in c:\\users\\maheshwari rathod\\anaconda3\\lib\\site-packages (from requests<3,>=2->langchain) (3.3.2)\n",
      "Requirement already satisfied: idna<4,>=2.5 in c:\\users\\maheshwari rathod\\anaconda3\\lib\\site-packages (from requests<3,>=2->langchain) (3.7)\n",
      "Requirement already satisfied: urllib3<3,>=1.21.1 in c:\\users\\maheshwari rathod\\anaconda3\\lib\\site-packages (from requests<3,>=2->langchain) (2.2.3)\n",
      "Requirement already satisfied: certifi>=2017.4.17 in c:\\users\\maheshwari rathod\\anaconda3\\lib\\site-packages (from requests<3,>=2->langchain) (2024.8.30)\n",
      "Requirement already satisfied: greenlet!=0.4.17 in c:\\users\\maheshwari rathod\\anaconda3\\lib\\site-packages (from SQLAlchemy<3,>=1.4->langchain) (3.0.1)\n",
      "Requirement already satisfied: anyio in c:\\users\\maheshwari rathod\\anaconda3\\lib\\site-packages (from httpx<1,>=0.23.0->langsmith<0.4,>=0.1.17->langchain) (4.2.0)\n",
      "Requirement already satisfied: httpcore==1.* in c:\\users\\maheshwari rathod\\anaconda3\\lib\\site-packages (from httpx<1,>=0.23.0->langsmith<0.4,>=0.1.17->langchain) (1.0.2)\n",
      "Requirement already satisfied: sniffio in c:\\users\\maheshwari rathod\\anaconda3\\lib\\site-packages (from httpx<1,>=0.23.0->langsmith<0.4,>=0.1.17->langchain) (1.3.0)\n",
      "Requirement already satisfied: h11<0.15,>=0.13 in c:\\users\\maheshwari rathod\\anaconda3\\lib\\site-packages (from httpcore==1.*->httpx<1,>=0.23.0->langsmith<0.4,>=0.1.17->langchain) (0.14.0)\n",
      "Requirement already satisfied: jsonpointer>=1.9 in c:\\users\\maheshwari rathod\\anaconda3\\lib\\site-packages (from jsonpatch<2.0,>=1.33->langchain-core<1.0.0,>=0.3.34->langchain) (2.1)\n"
     ]
    }
   ],
   "source": []
  },
  {
   "cell_type": "code",
   "execution_count": 8,
   "id": "8c996760-4292-4fc9-87ba-2d9c6abef510",
   "metadata": {},
   "outputs": [],
   "source": [
    "from langchain.chains import RetrievalQA\n",
    "from langchain.llms import OpenAI\n",
    "from langchain.document_loaders import TextLoader"
   ]
  },
  {
   "cell_type": "code",
   "execution_count": 9,
   "id": "ea850a46-6936-4327-b520-4a651aa1fc52",
   "metadata": {},
   "outputs": [],
   "source": [
    "from langchain.llms import GooglePalm"
   ]
  },
  {
   "cell_type": "code",
   "execution_count": 7,
   "id": "9743029a-4dab-4371-adfd-b1c892e901f1",
   "metadata": {},
   "outputs": [
    {
     "name": "stdout",
     "output_type": "stream",
     "text": [
      "Collecting langchain_community\n",
      "  Downloading langchain_community-0.3.17-py3-none-any.whl.metadata (2.4 kB)\n",
      "Requirement already satisfied: langchain-core<1.0.0,>=0.3.34 in c:\\users\\maheshwari rathod\\anaconda3\\lib\\site-packages (from langchain_community) (0.3.35)\n",
      "Requirement already satisfied: langchain<1.0.0,>=0.3.18 in c:\\users\\maheshwari rathod\\anaconda3\\lib\\site-packages (from langchain_community) (0.3.18)\n",
      "Requirement already satisfied: SQLAlchemy<3,>=1.4 in c:\\users\\maheshwari rathod\\anaconda3\\lib\\site-packages (from langchain_community) (2.0.34)\n",
      "Requirement already satisfied: requests<3,>=2 in c:\\users\\maheshwari rathod\\anaconda3\\lib\\site-packages (from langchain_community) (2.32.3)\n",
      "Requirement already satisfied: PyYAML>=5.3 in c:\\users\\maheshwari rathod\\anaconda3\\lib\\site-packages (from langchain_community) (6.0.1)\n",
      "Requirement already satisfied: aiohttp<4.0.0,>=3.8.3 in c:\\users\\maheshwari rathod\\anaconda3\\lib\\site-packages (from langchain_community) (3.10.5)\n",
      "Requirement already satisfied: tenacity!=8.4.0,<10,>=8.1.0 in c:\\users\\maheshwari rathod\\anaconda3\\lib\\site-packages (from langchain_community) (8.2.3)\n",
      "Collecting dataclasses-json<0.7,>=0.5.7 (from langchain_community)\n",
      "  Downloading dataclasses_json-0.6.7-py3-none-any.whl.metadata (25 kB)\n",
      "Collecting pydantic-settings<3.0.0,>=2.4.0 (from langchain_community)\n",
      "  Downloading pydantic_settings-2.7.1-py3-none-any.whl.metadata (3.5 kB)\n",
      "Requirement already satisfied: langsmith<0.4,>=0.1.125 in c:\\users\\maheshwari rathod\\anaconda3\\lib\\site-packages (from langchain_community) (0.3.8)\n",
      "Collecting httpx-sse<1.0.0,>=0.4.0 (from langchain_community)\n",
      "  Downloading httpx_sse-0.4.0-py3-none-any.whl.metadata (9.0 kB)\n",
      "Requirement already satisfied: numpy<3,>=1.26.2 in c:\\users\\maheshwari rathod\\anaconda3\\lib\\site-packages (from langchain_community) (1.26.4)\n",
      "Requirement already satisfied: aiohappyeyeballs>=2.3.0 in c:\\users\\maheshwari rathod\\anaconda3\\lib\\site-packages (from aiohttp<4.0.0,>=3.8.3->langchain_community) (2.4.0)\n",
      "Requirement already satisfied: aiosignal>=1.1.2 in c:\\users\\maheshwari rathod\\anaconda3\\lib\\site-packages (from aiohttp<4.0.0,>=3.8.3->langchain_community) (1.2.0)\n",
      "Requirement already satisfied: attrs>=17.3.0 in c:\\users\\maheshwari rathod\\anaconda3\\lib\\site-packages (from aiohttp<4.0.0,>=3.8.3->langchain_community) (23.1.0)\n",
      "Requirement already satisfied: frozenlist>=1.1.1 in c:\\users\\maheshwari rathod\\anaconda3\\lib\\site-packages (from aiohttp<4.0.0,>=3.8.3->langchain_community) (1.4.0)\n",
      "Requirement already satisfied: multidict<7.0,>=4.5 in c:\\users\\maheshwari rathod\\anaconda3\\lib\\site-packages (from aiohttp<4.0.0,>=3.8.3->langchain_community) (6.0.4)\n",
      "Requirement already satisfied: yarl<2.0,>=1.0 in c:\\users\\maheshwari rathod\\anaconda3\\lib\\site-packages (from aiohttp<4.0.0,>=3.8.3->langchain_community) (1.11.0)\n",
      "Collecting marshmallow<4.0.0,>=3.18.0 (from dataclasses-json<0.7,>=0.5.7->langchain_community)\n",
      "  Downloading marshmallow-3.26.1-py3-none-any.whl.metadata (7.3 kB)\n",
      "Collecting typing-inspect<1,>=0.4.0 (from dataclasses-json<0.7,>=0.5.7->langchain_community)\n",
      "  Downloading typing_inspect-0.9.0-py3-none-any.whl.metadata (1.5 kB)\n",
      "Requirement already satisfied: langchain-text-splitters<1.0.0,>=0.3.6 in c:\\users\\maheshwari rathod\\anaconda3\\lib\\site-packages (from langchain<1.0.0,>=0.3.18->langchain_community) (0.3.6)\n",
      "Requirement already satisfied: pydantic<3.0.0,>=2.7.4 in c:\\users\\maheshwari rathod\\anaconda3\\lib\\site-packages (from langchain<1.0.0,>=0.3.18->langchain_community) (2.8.2)\n",
      "Requirement already satisfied: jsonpatch<2.0,>=1.33 in c:\\users\\maheshwari rathod\\anaconda3\\lib\\site-packages (from langchain-core<1.0.0,>=0.3.34->langchain_community) (1.33)\n",
      "Requirement already satisfied: packaging<25,>=23.2 in c:\\users\\maheshwari rathod\\anaconda3\\lib\\site-packages (from langchain-core<1.0.0,>=0.3.34->langchain_community) (24.1)\n",
      "Requirement already satisfied: typing-extensions>=4.7 in c:\\users\\maheshwari rathod\\anaconda3\\lib\\site-packages (from langchain-core<1.0.0,>=0.3.34->langchain_community) (4.11.0)\n",
      "Requirement already satisfied: httpx<1,>=0.23.0 in c:\\users\\maheshwari rathod\\anaconda3\\lib\\site-packages (from langsmith<0.4,>=0.1.125->langchain_community) (0.27.0)\n",
      "Requirement already satisfied: orjson<4.0.0,>=3.9.14 in c:\\users\\maheshwari rathod\\anaconda3\\lib\\site-packages (from langsmith<0.4,>=0.1.125->langchain_community) (3.10.15)\n",
      "Requirement already satisfied: requests-toolbelt<2.0.0,>=1.0.0 in c:\\users\\maheshwari rathod\\anaconda3\\lib\\site-packages (from langsmith<0.4,>=0.1.125->langchain_community) (1.0.0)\n",
      "Requirement already satisfied: zstandard<0.24.0,>=0.23.0 in c:\\users\\maheshwari rathod\\anaconda3\\lib\\site-packages (from langsmith<0.4,>=0.1.125->langchain_community) (0.23.0)\n",
      "Requirement already satisfied: python-dotenv>=0.21.0 in c:\\users\\maheshwari rathod\\anaconda3\\lib\\site-packages (from pydantic-settings<3.0.0,>=2.4.0->langchain_community) (0.21.0)\n",
      "Requirement already satisfied: charset-normalizer<4,>=2 in c:\\users\\maheshwari rathod\\anaconda3\\lib\\site-packages (from requests<3,>=2->langchain_community) (3.3.2)\n",
      "Requirement already satisfied: idna<4,>=2.5 in c:\\users\\maheshwari rathod\\anaconda3\\lib\\site-packages (from requests<3,>=2->langchain_community) (3.7)\n",
      "Requirement already satisfied: urllib3<3,>=1.21.1 in c:\\users\\maheshwari rathod\\anaconda3\\lib\\site-packages (from requests<3,>=2->langchain_community) (2.2.3)\n",
      "Requirement already satisfied: certifi>=2017.4.17 in c:\\users\\maheshwari rathod\\anaconda3\\lib\\site-packages (from requests<3,>=2->langchain_community) (2024.8.30)\n",
      "Requirement already satisfied: greenlet!=0.4.17 in c:\\users\\maheshwari rathod\\anaconda3\\lib\\site-packages (from SQLAlchemy<3,>=1.4->langchain_community) (3.0.1)\n",
      "Requirement already satisfied: anyio in c:\\users\\maheshwari rathod\\anaconda3\\lib\\site-packages (from httpx<1,>=0.23.0->langsmith<0.4,>=0.1.125->langchain_community) (4.2.0)\n",
      "Requirement already satisfied: httpcore==1.* in c:\\users\\maheshwari rathod\\anaconda3\\lib\\site-packages (from httpx<1,>=0.23.0->langsmith<0.4,>=0.1.125->langchain_community) (1.0.2)\n",
      "Requirement already satisfied: sniffio in c:\\users\\maheshwari rathod\\anaconda3\\lib\\site-packages (from httpx<1,>=0.23.0->langsmith<0.4,>=0.1.125->langchain_community) (1.3.0)\n",
      "Requirement already satisfied: h11<0.15,>=0.13 in c:\\users\\maheshwari rathod\\anaconda3\\lib\\site-packages (from httpcore==1.*->httpx<1,>=0.23.0->langsmith<0.4,>=0.1.125->langchain_community) (0.14.0)\n",
      "Requirement already satisfied: jsonpointer>=1.9 in c:\\users\\maheshwari rathod\\anaconda3\\lib\\site-packages (from jsonpatch<2.0,>=1.33->langchain-core<1.0.0,>=0.3.34->langchain_community) (2.1)\n",
      "Requirement already satisfied: annotated-types>=0.4.0 in c:\\users\\maheshwari rathod\\anaconda3\\lib\\site-packages (from pydantic<3.0.0,>=2.7.4->langchain<1.0.0,>=0.3.18->langchain_community) (0.6.0)\n",
      "Requirement already satisfied: pydantic-core==2.20.1 in c:\\users\\maheshwari rathod\\anaconda3\\lib\\site-packages (from pydantic<3.0.0,>=2.7.4->langchain<1.0.0,>=0.3.18->langchain_community) (2.20.1)\n",
      "Requirement already satisfied: mypy-extensions>=0.3.0 in c:\\users\\maheshwari rathod\\anaconda3\\lib\\site-packages (from typing-inspect<1,>=0.4.0->dataclasses-json<0.7,>=0.5.7->langchain_community) (1.0.0)\n",
      "Downloading langchain_community-0.3.17-py3-none-any.whl (2.5 MB)\n",
      "   ---------------------------------------- 0.0/2.5 MB ? eta -:--:--\n",
      "   ------------------------------------- -- 2.4/2.5 MB 33.3 MB/s eta 0:00:01\n",
      "   ------------------------------------- -- 2.4/2.5 MB 33.3 MB/s eta 0:00:01\n",
      "   ---------------------------------------- 2.5/2.5 MB 5.8 MB/s eta 0:00:00\n",
      "Downloading dataclasses_json-0.6.7-py3-none-any.whl (28 kB)\n",
      "Downloading httpx_sse-0.4.0-py3-none-any.whl (7.8 kB)\n",
      "Downloading pydantic_settings-2.7.1-py3-none-any.whl (29 kB)\n",
      "Downloading marshmallow-3.26.1-py3-none-any.whl (50 kB)\n",
      "Downloading typing_inspect-0.9.0-py3-none-any.whl (8.8 kB)\n",
      "Installing collected packages: typing-inspect, marshmallow, httpx-sse, dataclasses-json, pydantic-settings, langchain_community\n",
      "Successfully installed dataclasses-json-0.6.7 httpx-sse-0.4.0 langchain_community-0.3.17 marshmallow-3.26.1 pydantic-settings-2.7.1 typing-inspect-0.9.0\n"
     ]
    }
   ],
   "source": [
    "!pip install langchain_community"
   ]
  },
  {
   "cell_type": "code",
   "execution_count": 13,
   "id": "a83dfe90-12ca-4991-b36c-4f00666ddb67",
   "metadata": {},
   "outputs": [
    {
     "name": "stdout",
     "output_type": "stream",
     "text": [
      "Collecting streamlit_jupyter\n",
      "  Downloading streamlit_jupyter-0.2.1-py3-none-any.whl.metadata (8.1 kB)\n",
      "Collecting fastcore (from streamlit_jupyter)\n",
      "  Downloading fastcore-1.7.29-py3-none-any.whl.metadata (3.6 kB)\n",
      "Collecting ipywidgets==7.7.2 (from streamlit_jupyter)\n",
      "  Downloading ipywidgets-7.7.2-py2.py3-none-any.whl.metadata (1.9 kB)\n",
      "Requirement already satisfied: jupyter in c:\\users\\maheshwari rathod\\anaconda3\\lib\\site-packages (from streamlit_jupyter) (1.0.0)\n",
      "Collecting stqdm (from streamlit_jupyter)\n",
      "  Downloading stqdm-0.0.5-py3-none-any.whl.metadata (3.0 kB)\n",
      "Requirement already satisfied: streamlit>=1.19 in c:\\users\\maheshwari rathod\\anaconda3\\lib\\site-packages (from streamlit_jupyter) (1.37.1)\n",
      "Requirement already satisfied: tabulate in c:\\users\\maheshwari rathod\\anaconda3\\lib\\site-packages (from streamlit_jupyter) (0.9.0)\n",
      "Requirement already satisfied: tqdm in c:\\users\\maheshwari rathod\\anaconda3\\lib\\site-packages (from streamlit_jupyter) (4.66.5)\n",
      "Requirement already satisfied: ipykernel>=4.5.1 in c:\\users\\maheshwari rathod\\anaconda3\\lib\\site-packages (from ipywidgets==7.7.2->streamlit_jupyter) (6.28.0)\n",
      "Requirement already satisfied: ipython-genutils~=0.2.0 in c:\\users\\maheshwari rathod\\anaconda3\\lib\\site-packages (from ipywidgets==7.7.2->streamlit_jupyter) (0.2.0)\n",
      "Requirement already satisfied: traitlets>=4.3.1 in c:\\users\\maheshwari rathod\\anaconda3\\lib\\site-packages (from ipywidgets==7.7.2->streamlit_jupyter) (5.14.3)\n",
      "Requirement already satisfied: widgetsnbextension~=3.6.0 in c:\\users\\maheshwari rathod\\anaconda3\\lib\\site-packages (from ipywidgets==7.7.2->streamlit_jupyter) (3.6.6)\n",
      "Requirement already satisfied: ipython>=4.0.0 in c:\\users\\maheshwari rathod\\anaconda3\\lib\\site-packages (from ipywidgets==7.7.2->streamlit_jupyter) (8.27.0)\n",
      "Requirement already satisfied: jupyterlab-widgets<3,>=1.0.0 in c:\\users\\maheshwari rathod\\anaconda3\\lib\\site-packages (from ipywidgets==7.7.2->streamlit_jupyter) (1.0.0)\n",
      "Requirement already satisfied: altair<6,>=4.0 in c:\\users\\maheshwari rathod\\anaconda3\\lib\\site-packages (from streamlit>=1.19->streamlit_jupyter) (5.0.1)\n",
      "Requirement already satisfied: blinker<2,>=1.0.0 in c:\\users\\maheshwari rathod\\anaconda3\\lib\\site-packages (from streamlit>=1.19->streamlit_jupyter) (1.6.2)\n",
      "Requirement already satisfied: cachetools<6,>=4.0 in c:\\users\\maheshwari rathod\\anaconda3\\lib\\site-packages (from streamlit>=1.19->streamlit_jupyter) (5.3.3)\n",
      "Requirement already satisfied: click<9,>=7.0 in c:\\users\\maheshwari rathod\\anaconda3\\lib\\site-packages (from streamlit>=1.19->streamlit_jupyter) (8.1.7)\n",
      "Requirement already satisfied: numpy<3,>=1.20 in c:\\users\\maheshwari rathod\\anaconda3\\lib\\site-packages (from streamlit>=1.19->streamlit_jupyter) (1.26.4)\n",
      "Requirement already satisfied: packaging<25,>=20 in c:\\users\\maheshwari rathod\\anaconda3\\lib\\site-packages (from streamlit>=1.19->streamlit_jupyter) (24.1)\n",
      "Requirement already satisfied: pandas<3,>=1.3.0 in c:\\users\\maheshwari rathod\\anaconda3\\lib\\site-packages (from streamlit>=1.19->streamlit_jupyter) (2.2.2)\n",
      "Requirement already satisfied: pillow<11,>=7.1.0 in c:\\users\\maheshwari rathod\\anaconda3\\lib\\site-packages (from streamlit>=1.19->streamlit_jupyter) (10.4.0)\n",
      "Requirement already satisfied: protobuf<6,>=3.20 in c:\\users\\maheshwari rathod\\anaconda3\\lib\\site-packages (from streamlit>=1.19->streamlit_jupyter) (4.25.3)\n",
      "Requirement already satisfied: pyarrow>=7.0 in c:\\users\\maheshwari rathod\\anaconda3\\lib\\site-packages (from streamlit>=1.19->streamlit_jupyter) (16.1.0)\n",
      "Requirement already satisfied: requests<3,>=2.27 in c:\\users\\maheshwari rathod\\anaconda3\\lib\\site-packages (from streamlit>=1.19->streamlit_jupyter) (2.32.3)\n",
      "Requirement already satisfied: rich<14,>=10.14.0 in c:\\users\\maheshwari rathod\\anaconda3\\lib\\site-packages (from streamlit>=1.19->streamlit_jupyter) (13.7.1)\n",
      "Requirement already satisfied: tenacity<9,>=8.1.0 in c:\\users\\maheshwari rathod\\anaconda3\\lib\\site-packages (from streamlit>=1.19->streamlit_jupyter) (8.2.3)\n",
      "Requirement already satisfied: toml<2,>=0.10.1 in c:\\users\\maheshwari rathod\\anaconda3\\lib\\site-packages (from streamlit>=1.19->streamlit_jupyter) (0.10.2)\n",
      "Requirement already satisfied: typing-extensions<5,>=4.3.0 in c:\\users\\maheshwari rathod\\anaconda3\\lib\\site-packages (from streamlit>=1.19->streamlit_jupyter) (4.11.0)\n",
      "Requirement already satisfied: gitpython!=3.1.19,<4,>=3.0.7 in c:\\users\\maheshwari rathod\\anaconda3\\lib\\site-packages (from streamlit>=1.19->streamlit_jupyter) (3.1.43)\n",
      "Requirement already satisfied: pydeck<1,>=0.8.0b4 in c:\\users\\maheshwari rathod\\anaconda3\\lib\\site-packages (from streamlit>=1.19->streamlit_jupyter) (0.8.0)\n",
      "Requirement already satisfied: tornado<7,>=6.0.3 in c:\\users\\maheshwari rathod\\anaconda3\\lib\\site-packages (from streamlit>=1.19->streamlit_jupyter) (6.4.1)\n",
      "Requirement already satisfied: watchdog<5,>=2.1.5 in c:\\users\\maheshwari rathod\\anaconda3\\lib\\site-packages (from streamlit>=1.19->streamlit_jupyter) (4.0.1)\n",
      "Requirement already satisfied: notebook in c:\\users\\maheshwari rathod\\anaconda3\\lib\\site-packages (from jupyter->streamlit_jupyter) (7.2.2)\n",
      "Requirement already satisfied: qtconsole in c:\\users\\maheshwari rathod\\anaconda3\\lib\\site-packages (from jupyter->streamlit_jupyter) (5.5.1)\n",
      "Requirement already satisfied: jupyter-console in c:\\users\\maheshwari rathod\\anaconda3\\lib\\site-packages (from jupyter->streamlit_jupyter) (6.6.3)\n",
      "Requirement already satisfied: nbconvert in c:\\users\\maheshwari rathod\\anaconda3\\lib\\site-packages (from jupyter->streamlit_jupyter) (7.16.4)\n",
      "Requirement already satisfied: colorama in c:\\users\\maheshwari rathod\\anaconda3\\lib\\site-packages (from tqdm->streamlit_jupyter) (0.4.6)\n",
      "Requirement already satisfied: jinja2 in c:\\users\\maheshwari rathod\\anaconda3\\lib\\site-packages (from altair<6,>=4.0->streamlit>=1.19->streamlit_jupyter) (3.1.4)\n",
      "Requirement already satisfied: jsonschema>=3.0 in c:\\users\\maheshwari rathod\\anaconda3\\lib\\site-packages (from altair<6,>=4.0->streamlit>=1.19->streamlit_jupyter) (4.23.0)\n",
      "Requirement already satisfied: toolz in c:\\users\\maheshwari rathod\\anaconda3\\lib\\site-packages (from altair<6,>=4.0->streamlit>=1.19->streamlit_jupyter) (0.12.0)\n",
      "Requirement already satisfied: gitdb<5,>=4.0.1 in c:\\users\\maheshwari rathod\\anaconda3\\lib\\site-packages (from gitpython!=3.1.19,<4,>=3.0.7->streamlit>=1.19->streamlit_jupyter) (4.0.7)\n",
      "Requirement already satisfied: comm>=0.1.1 in c:\\users\\maheshwari rathod\\anaconda3\\lib\\site-packages (from ipykernel>=4.5.1->ipywidgets==7.7.2->streamlit_jupyter) (0.2.1)\n",
      "Requirement already satisfied: debugpy>=1.6.5 in c:\\users\\maheshwari rathod\\anaconda3\\lib\\site-packages (from ipykernel>=4.5.1->ipywidgets==7.7.2->streamlit_jupyter) (1.6.7)\n",
      "Requirement already satisfied: jupyter-client>=6.1.12 in c:\\users\\maheshwari rathod\\anaconda3\\lib\\site-packages (from ipykernel>=4.5.1->ipywidgets==7.7.2->streamlit_jupyter) (8.6.0)\n",
      "Requirement already satisfied: jupyter-core!=5.0.*,>=4.12 in c:\\users\\maheshwari rathod\\anaconda3\\lib\\site-packages (from ipykernel>=4.5.1->ipywidgets==7.7.2->streamlit_jupyter) (5.7.2)\n",
      "Requirement already satisfied: matplotlib-inline>=0.1 in c:\\users\\maheshwari rathod\\anaconda3\\lib\\site-packages (from ipykernel>=4.5.1->ipywidgets==7.7.2->streamlit_jupyter) (0.1.6)\n",
      "Requirement already satisfied: nest-asyncio in c:\\users\\maheshwari rathod\\anaconda3\\lib\\site-packages (from ipykernel>=4.5.1->ipywidgets==7.7.2->streamlit_jupyter) (1.6.0)\n",
      "Requirement already satisfied: psutil in c:\\users\\maheshwari rathod\\anaconda3\\lib\\site-packages (from ipykernel>=4.5.1->ipywidgets==7.7.2->streamlit_jupyter) (5.9.0)\n",
      "Requirement already satisfied: pyzmq>=24 in c:\\users\\maheshwari rathod\\anaconda3\\lib\\site-packages (from ipykernel>=4.5.1->ipywidgets==7.7.2->streamlit_jupyter) (25.1.2)\n",
      "Requirement already satisfied: decorator in c:\\users\\maheshwari rathod\\anaconda3\\lib\\site-packages (from ipython>=4.0.0->ipywidgets==7.7.2->streamlit_jupyter) (5.1.1)\n",
      "Requirement already satisfied: jedi>=0.16 in c:\\users\\maheshwari rathod\\anaconda3\\lib\\site-packages (from ipython>=4.0.0->ipywidgets==7.7.2->streamlit_jupyter) (0.19.1)\n",
      "Requirement already satisfied: prompt-toolkit<3.1.0,>=3.0.41 in c:\\users\\maheshwari rathod\\anaconda3\\lib\\site-packages (from ipython>=4.0.0->ipywidgets==7.7.2->streamlit_jupyter) (3.0.43)\n",
      "Requirement already satisfied: pygments>=2.4.0 in c:\\users\\maheshwari rathod\\anaconda3\\lib\\site-packages (from ipython>=4.0.0->ipywidgets==7.7.2->streamlit_jupyter) (2.15.1)\n",
      "Requirement already satisfied: stack-data in c:\\users\\maheshwari rathod\\anaconda3\\lib\\site-packages (from ipython>=4.0.0->ipywidgets==7.7.2->streamlit_jupyter) (0.2.0)\n",
      "Requirement already satisfied: python-dateutil>=2.8.2 in c:\\users\\maheshwari rathod\\anaconda3\\lib\\site-packages (from pandas<3,>=1.3.0->streamlit>=1.19->streamlit_jupyter) (2.9.0.post0)\n",
      "Requirement already satisfied: pytz>=2020.1 in c:\\users\\maheshwari rathod\\anaconda3\\lib\\site-packages (from pandas<3,>=1.3.0->streamlit>=1.19->streamlit_jupyter) (2024.1)\n",
      "Requirement already satisfied: tzdata>=2022.7 in c:\\users\\maheshwari rathod\\anaconda3\\lib\\site-packages (from pandas<3,>=1.3.0->streamlit>=1.19->streamlit_jupyter) (2023.3)\n",
      "Requirement already satisfied: charset-normalizer<4,>=2 in c:\\users\\maheshwari rathod\\anaconda3\\lib\\site-packages (from requests<3,>=2.27->streamlit>=1.19->streamlit_jupyter) (3.3.2)\n",
      "Requirement already satisfied: idna<4,>=2.5 in c:\\users\\maheshwari rathod\\anaconda3\\lib\\site-packages (from requests<3,>=2.27->streamlit>=1.19->streamlit_jupyter) (3.7)\n",
      "Requirement already satisfied: urllib3<3,>=1.21.1 in c:\\users\\maheshwari rathod\\anaconda3\\lib\\site-packages (from requests<3,>=2.27->streamlit>=1.19->streamlit_jupyter) (2.2.3)\n",
      "Requirement already satisfied: certifi>=2017.4.17 in c:\\users\\maheshwari rathod\\anaconda3\\lib\\site-packages (from requests<3,>=2.27->streamlit>=1.19->streamlit_jupyter) (2024.8.30)\n",
      "Requirement already satisfied: markdown-it-py>=2.2.0 in c:\\users\\maheshwari rathod\\anaconda3\\lib\\site-packages (from rich<14,>=10.14.0->streamlit>=1.19->streamlit_jupyter) (2.2.0)\n",
      "Requirement already satisfied: jupyter-server<3,>=2.4.0 in c:\\users\\maheshwari rathod\\anaconda3\\lib\\site-packages (from notebook->jupyter->streamlit_jupyter) (2.14.1)\n",
      "Requirement already satisfied: jupyterlab-server<3,>=2.27.1 in c:\\users\\maheshwari rathod\\anaconda3\\lib\\site-packages (from notebook->jupyter->streamlit_jupyter) (2.27.3)\n",
      "Requirement already satisfied: jupyterlab<4.3,>=4.2.0 in c:\\users\\maheshwari rathod\\anaconda3\\lib\\site-packages (from notebook->jupyter->streamlit_jupyter) (4.2.5)\n",
      "Requirement already satisfied: notebook-shim<0.3,>=0.2 in c:\\users\\maheshwari rathod\\anaconda3\\lib\\site-packages (from notebook->jupyter->streamlit_jupyter) (0.2.3)\n",
      "Requirement already satisfied: beautifulsoup4 in c:\\users\\maheshwari rathod\\anaconda3\\lib\\site-packages (from nbconvert->jupyter->streamlit_jupyter) (4.12.3)\n",
      "Requirement already satisfied: bleach!=5.0.0 in c:\\users\\maheshwari rathod\\anaconda3\\lib\\site-packages (from nbconvert->jupyter->streamlit_jupyter) (4.1.0)\n",
      "Requirement already satisfied: defusedxml in c:\\users\\maheshwari rathod\\anaconda3\\lib\\site-packages (from nbconvert->jupyter->streamlit_jupyter) (0.7.1)\n",
      "Requirement already satisfied: jupyterlab-pygments in c:\\users\\maheshwari rathod\\anaconda3\\lib\\site-packages (from nbconvert->jupyter->streamlit_jupyter) (0.1.2)\n",
      "Requirement already satisfied: markupsafe>=2.0 in c:\\users\\maheshwari rathod\\anaconda3\\lib\\site-packages (from nbconvert->jupyter->streamlit_jupyter) (2.1.3)\n",
      "Requirement already satisfied: mistune<4,>=2.0.3 in c:\\users\\maheshwari rathod\\anaconda3\\lib\\site-packages (from nbconvert->jupyter->streamlit_jupyter) (2.0.4)\n",
      "Requirement already satisfied: nbclient>=0.5.0 in c:\\users\\maheshwari rathod\\anaconda3\\lib\\site-packages (from nbconvert->jupyter->streamlit_jupyter) (0.8.0)\n",
      "Requirement already satisfied: nbformat>=5.7 in c:\\users\\maheshwari rathod\\anaconda3\\lib\\site-packages (from nbconvert->jupyter->streamlit_jupyter) (5.10.4)\n",
      "Requirement already satisfied: pandocfilters>=1.4.1 in c:\\users\\maheshwari rathod\\anaconda3\\lib\\site-packages (from nbconvert->jupyter->streamlit_jupyter) (1.5.0)\n",
      "Requirement already satisfied: tinycss2 in c:\\users\\maheshwari rathod\\anaconda3\\lib\\site-packages (from nbconvert->jupyter->streamlit_jupyter) (1.2.1)\n",
      "Requirement already satisfied: qtpy>=2.4.0 in c:\\users\\maheshwari rathod\\anaconda3\\lib\\site-packages (from qtconsole->jupyter->streamlit_jupyter) (2.4.1)\n",
      "Requirement already satisfied: six>=1.9.0 in c:\\users\\maheshwari rathod\\anaconda3\\lib\\site-packages (from bleach!=5.0.0->nbconvert->jupyter->streamlit_jupyter) (1.16.0)\n",
      "Requirement already satisfied: webencodings in c:\\users\\maheshwari rathod\\anaconda3\\lib\\site-packages (from bleach!=5.0.0->nbconvert->jupyter->streamlit_jupyter) (0.5.1)\n",
      "Requirement already satisfied: smmap<5,>=3.0.1 in c:\\users\\maheshwari rathod\\anaconda3\\lib\\site-packages (from gitdb<5,>=4.0.1->gitpython!=3.1.19,<4,>=3.0.7->streamlit>=1.19->streamlit_jupyter) (4.0.0)\n",
      "Requirement already satisfied: parso<0.9.0,>=0.8.3 in c:\\users\\maheshwari rathod\\anaconda3\\lib\\site-packages (from jedi>=0.16->ipython>=4.0.0->ipywidgets==7.7.2->streamlit_jupyter) (0.8.3)\n",
      "Requirement already satisfied: attrs>=22.2.0 in c:\\users\\maheshwari rathod\\anaconda3\\lib\\site-packages (from jsonschema>=3.0->altair<6,>=4.0->streamlit>=1.19->streamlit_jupyter) (23.1.0)\n",
      "Requirement already satisfied: jsonschema-specifications>=2023.03.6 in c:\\users\\maheshwari rathod\\anaconda3\\lib\\site-packages (from jsonschema>=3.0->altair<6,>=4.0->streamlit>=1.19->streamlit_jupyter) (2023.7.1)\n",
      "Requirement already satisfied: referencing>=0.28.4 in c:\\users\\maheshwari rathod\\anaconda3\\lib\\site-packages (from jsonschema>=3.0->altair<6,>=4.0->streamlit>=1.19->streamlit_jupyter) (0.30.2)\n",
      "Requirement already satisfied: rpds-py>=0.7.1 in c:\\users\\maheshwari rathod\\anaconda3\\lib\\site-packages (from jsonschema>=3.0->altair<6,>=4.0->streamlit>=1.19->streamlit_jupyter) (0.10.6)\n",
      "Requirement already satisfied: platformdirs>=2.5 in c:\\users\\maheshwari rathod\\anaconda3\\lib\\site-packages (from jupyter-core!=5.0.*,>=4.12->ipykernel>=4.5.1->ipywidgets==7.7.2->streamlit_jupyter) (3.10.0)\n",
      "Requirement already satisfied: pywin32>=300 in c:\\users\\maheshwari rathod\\anaconda3\\lib\\site-packages (from jupyter-core!=5.0.*,>=4.12->ipykernel>=4.5.1->ipywidgets==7.7.2->streamlit_jupyter) (305.1)\n",
      "Requirement already satisfied: anyio>=3.1.0 in c:\\users\\maheshwari rathod\\anaconda3\\lib\\site-packages (from jupyter-server<3,>=2.4.0->notebook->jupyter->streamlit_jupyter) (4.2.0)\n",
      "Requirement already satisfied: argon2-cffi>=21.1 in c:\\users\\maheshwari rathod\\anaconda3\\lib\\site-packages (from jupyter-server<3,>=2.4.0->notebook->jupyter->streamlit_jupyter) (21.3.0)\n",
      "Requirement already satisfied: jupyter-events>=0.9.0 in c:\\users\\maheshwari rathod\\anaconda3\\lib\\site-packages (from jupyter-server<3,>=2.4.0->notebook->jupyter->streamlit_jupyter) (0.10.0)\n",
      "Requirement already satisfied: jupyter-server-terminals>=0.4.4 in c:\\users\\maheshwari rathod\\anaconda3\\lib\\site-packages (from jupyter-server<3,>=2.4.0->notebook->jupyter->streamlit_jupyter) (0.4.4)\n",
      "Requirement already satisfied: overrides>=5.0 in c:\\users\\maheshwari rathod\\anaconda3\\lib\\site-packages (from jupyter-server<3,>=2.4.0->notebook->jupyter->streamlit_jupyter) (7.4.0)\n",
      "Requirement already satisfied: prometheus-client>=0.9 in c:\\users\\maheshwari rathod\\anaconda3\\lib\\site-packages (from jupyter-server<3,>=2.4.0->notebook->jupyter->streamlit_jupyter) (0.14.1)\n",
      "Requirement already satisfied: pywinpty>=2.0.1 in c:\\users\\maheshwari rathod\\anaconda3\\lib\\site-packages (from jupyter-server<3,>=2.4.0->notebook->jupyter->streamlit_jupyter) (2.0.10)\n",
      "Requirement already satisfied: send2trash>=1.8.2 in c:\\users\\maheshwari rathod\\anaconda3\\lib\\site-packages (from jupyter-server<3,>=2.4.0->notebook->jupyter->streamlit_jupyter) (1.8.2)\n",
      "Requirement already satisfied: terminado>=0.8.3 in c:\\users\\maheshwari rathod\\anaconda3\\lib\\site-packages (from jupyter-server<3,>=2.4.0->notebook->jupyter->streamlit_jupyter) (0.17.1)\n",
      "Requirement already satisfied: websocket-client>=1.7 in c:\\users\\maheshwari rathod\\anaconda3\\lib\\site-packages (from jupyter-server<3,>=2.4.0->notebook->jupyter->streamlit_jupyter) (1.8.0)\n",
      "Requirement already satisfied: async-lru>=1.0.0 in c:\\users\\maheshwari rathod\\anaconda3\\lib\\site-packages (from jupyterlab<4.3,>=4.2.0->notebook->jupyter->streamlit_jupyter) (2.0.4)\n",
      "Requirement already satisfied: httpx>=0.25.0 in c:\\users\\maheshwari rathod\\anaconda3\\lib\\site-packages (from jupyterlab<4.3,>=4.2.0->notebook->jupyter->streamlit_jupyter) (0.27.0)\n",
      "Requirement already satisfied: jupyter-lsp>=2.0.0 in c:\\users\\maheshwari rathod\\anaconda3\\lib\\site-packages (from jupyterlab<4.3,>=4.2.0->notebook->jupyter->streamlit_jupyter) (2.2.0)\n",
      "Requirement already satisfied: setuptools>=40.1.0 in c:\\users\\maheshwari rathod\\anaconda3\\lib\\site-packages (from jupyterlab<4.3,>=4.2.0->notebook->jupyter->streamlit_jupyter) (75.1.0)\n",
      "Requirement already satisfied: babel>=2.10 in c:\\users\\maheshwari rathod\\anaconda3\\lib\\site-packages (from jupyterlab-server<3,>=2.27.1->notebook->jupyter->streamlit_jupyter) (2.11.0)\n",
      "Requirement already satisfied: json5>=0.9.0 in c:\\users\\maheshwari rathod\\anaconda3\\lib\\site-packages (from jupyterlab-server<3,>=2.27.1->notebook->jupyter->streamlit_jupyter) (0.9.6)\n",
      "Requirement already satisfied: mdurl~=0.1 in c:\\users\\maheshwari rathod\\anaconda3\\lib\\site-packages (from markdown-it-py>=2.2.0->rich<14,>=10.14.0->streamlit>=1.19->streamlit_jupyter) (0.1.0)\n",
      "Requirement already satisfied: fastjsonschema>=2.15 in c:\\users\\maheshwari rathod\\anaconda3\\lib\\site-packages (from nbformat>=5.7->nbconvert->jupyter->streamlit_jupyter) (2.16.2)\n",
      "Requirement already satisfied: wcwidth in c:\\users\\maheshwari rathod\\anaconda3\\lib\\site-packages (from prompt-toolkit<3.1.0,>=3.0.41->ipython>=4.0.0->ipywidgets==7.7.2->streamlit_jupyter) (0.2.5)\n",
      "Requirement already satisfied: soupsieve>1.2 in c:\\users\\maheshwari rathod\\anaconda3\\lib\\site-packages (from beautifulsoup4->nbconvert->jupyter->streamlit_jupyter) (2.5)\n",
      "Requirement already satisfied: executing in c:\\users\\maheshwari rathod\\anaconda3\\lib\\site-packages (from stack-data->ipython>=4.0.0->ipywidgets==7.7.2->streamlit_jupyter) (0.8.3)\n",
      "Requirement already satisfied: asttokens in c:\\users\\maheshwari rathod\\anaconda3\\lib\\site-packages (from stack-data->ipython>=4.0.0->ipywidgets==7.7.2->streamlit_jupyter) (2.0.5)\n",
      "Requirement already satisfied: pure-eval in c:\\users\\maheshwari rathod\\anaconda3\\lib\\site-packages (from stack-data->ipython>=4.0.0->ipywidgets==7.7.2->streamlit_jupyter) (0.2.2)\n",
      "Requirement already satisfied: sniffio>=1.1 in c:\\users\\maheshwari rathod\\anaconda3\\lib\\site-packages (from anyio>=3.1.0->jupyter-server<3,>=2.4.0->notebook->jupyter->streamlit_jupyter) (1.3.0)\n",
      "Requirement already satisfied: argon2-cffi-bindings in c:\\users\\maheshwari rathod\\anaconda3\\lib\\site-packages (from argon2-cffi>=21.1->jupyter-server<3,>=2.4.0->notebook->jupyter->streamlit_jupyter) (21.2.0)\n",
      "Requirement already satisfied: httpcore==1.* in c:\\users\\maheshwari rathod\\anaconda3\\lib\\site-packages (from httpx>=0.25.0->jupyterlab<4.3,>=4.2.0->notebook->jupyter->streamlit_jupyter) (1.0.2)\n",
      "Requirement already satisfied: h11<0.15,>=0.13 in c:\\users\\maheshwari rathod\\anaconda3\\lib\\site-packages (from httpcore==1.*->httpx>=0.25.0->jupyterlab<4.3,>=4.2.0->notebook->jupyter->streamlit_jupyter) (0.14.0)\n",
      "Requirement already satisfied: python-json-logger>=2.0.4 in c:\\users\\maheshwari rathod\\anaconda3\\lib\\site-packages (from jupyter-events>=0.9.0->jupyter-server<3,>=2.4.0->notebook->jupyter->streamlit_jupyter) (2.0.7)\n",
      "Requirement already satisfied: pyyaml>=5.3 in c:\\users\\maheshwari rathod\\anaconda3\\lib\\site-packages (from jupyter-events>=0.9.0->jupyter-server<3,>=2.4.0->notebook->jupyter->streamlit_jupyter) (6.0.1)\n",
      "Requirement already satisfied: rfc3339-validator in c:\\users\\maheshwari rathod\\anaconda3\\lib\\site-packages (from jupyter-events>=0.9.0->jupyter-server<3,>=2.4.0->notebook->jupyter->streamlit_jupyter) (0.1.4)\n",
      "Requirement already satisfied: rfc3986-validator>=0.1.1 in c:\\users\\maheshwari rathod\\anaconda3\\lib\\site-packages (from jupyter-events>=0.9.0->jupyter-server<3,>=2.4.0->notebook->jupyter->streamlit_jupyter) (0.1.1)\n",
      "Collecting fqdn (from jsonschema[format-nongpl]>=4.18.0->jupyter-events>=0.9.0->jupyter-server<3,>=2.4.0->notebook->jupyter->streamlit_jupyter)\n",
      "  Downloading fqdn-1.5.1-py3-none-any.whl.metadata (1.4 kB)\n",
      "Collecting isoduration (from jsonschema[format-nongpl]>=4.18.0->jupyter-events>=0.9.0->jupyter-server<3,>=2.4.0->notebook->jupyter->streamlit_jupyter)\n",
      "  Downloading isoduration-20.11.0-py3-none-any.whl.metadata (5.7 kB)\n",
      "Requirement already satisfied: jsonpointer>1.13 in c:\\users\\maheshwari rathod\\anaconda3\\lib\\site-packages (from jsonschema[format-nongpl]>=4.18.0->jupyter-events>=0.9.0->jupyter-server<3,>=2.4.0->notebook->jupyter->streamlit_jupyter) (2.1)\n",
      "Collecting uri-template (from jsonschema[format-nongpl]>=4.18.0->jupyter-events>=0.9.0->jupyter-server<3,>=2.4.0->notebook->jupyter->streamlit_jupyter)\n",
      "  Downloading uri_template-1.3.0-py3-none-any.whl.metadata (8.8 kB)\n",
      "Collecting webcolors>=24.6.0 (from jsonschema[format-nongpl]>=4.18.0->jupyter-events>=0.9.0->jupyter-server<3,>=2.4.0->notebook->jupyter->streamlit_jupyter)\n",
      "  Downloading webcolors-24.11.1-py3-none-any.whl.metadata (2.2 kB)\n",
      "Requirement already satisfied: cffi>=1.0.1 in c:\\users\\maheshwari rathod\\anaconda3\\lib\\site-packages (from argon2-cffi-bindings->argon2-cffi>=21.1->jupyter-server<3,>=2.4.0->notebook->jupyter->streamlit_jupyter) (1.17.1)\n",
      "Requirement already satisfied: pycparser in c:\\users\\maheshwari rathod\\anaconda3\\lib\\site-packages (from cffi>=1.0.1->argon2-cffi-bindings->argon2-cffi>=21.1->jupyter-server<3,>=2.4.0->notebook->jupyter->streamlit_jupyter) (2.21)\n",
      "Requirement already satisfied: arrow>=0.15.0 in c:\\users\\maheshwari rathod\\anaconda3\\lib\\site-packages (from isoduration->jsonschema[format-nongpl]>=4.18.0->jupyter-events>=0.9.0->jupyter-server<3,>=2.4.0->notebook->jupyter->streamlit_jupyter) (1.2.3)\n",
      "Downloading streamlit_jupyter-0.2.1-py3-none-any.whl (13 kB)\n",
      "Downloading ipywidgets-7.7.2-py2.py3-none-any.whl (123 kB)\n",
      "Downloading fastcore-1.7.29-py3-none-any.whl (84 kB)\n",
      "Downloading stqdm-0.0.5-py3-none-any.whl (11 kB)\n",
      "Downloading webcolors-24.11.1-py3-none-any.whl (14 kB)\n",
      "Downloading fqdn-1.5.1-py3-none-any.whl (9.1 kB)\n",
      "Downloading isoduration-20.11.0-py3-none-any.whl (11 kB)\n",
      "Downloading uri_template-1.3.0-py3-none-any.whl (11 kB)\n",
      "Installing collected packages: webcolors, uri-template, fqdn, fastcore, isoduration, stqdm, ipywidgets, streamlit_jupyter\n",
      "  Attempting uninstall: ipywidgets\n",
      "    Found existing installation: ipywidgets 7.8.1\n",
      "    Uninstalling ipywidgets-7.8.1:\n",
      "      Successfully uninstalled ipywidgets-7.8.1\n",
      "Successfully installed fastcore-1.7.29 fqdn-1.5.1 ipywidgets-7.7.2 isoduration-20.11.0 stqdm-0.0.5 streamlit_jupyter-0.2.1 uri-template-1.3.0 webcolors-24.11.1\n"
     ]
    }
   ],
   "source": [
    "!pip install streamlit_jupyter\n"
   ]
  },
  {
   "cell_type": "code",
   "execution_count": 16,
   "id": "eeb699ea-671e-4d6a-9206-78fac1b3bbb3",
   "metadata": {},
   "outputs": [
    {
     "ename": "AttributeError",
     "evalue": "module 'streamlit' has no attribute 'experimental_data_editor'",
     "output_type": "error",
     "traceback": [
      "\u001b[1;31m---------------------------------------------------------------------------\u001b[0m",
      "\u001b[1;31mAttributeError\u001b[0m                            Traceback (most recent call last)",
      "Cell \u001b[1;32mIn[16], line 3\u001b[0m\n\u001b[0;32m      1\u001b[0m \u001b[38;5;28;01mimport\u001b[39;00m \u001b[38;5;21;01mstreamlit\u001b[39;00m \u001b[38;5;28;01mas\u001b[39;00m \u001b[38;5;21;01mst\u001b[39;00m\n\u001b[0;32m      2\u001b[0m \u001b[38;5;28;01mfrom\u001b[39;00m \u001b[38;5;21;01mstreamlit_jupyter\u001b[39;00m \u001b[38;5;28;01mimport\u001b[39;00m StreamlitPatcher, tqdm\n\u001b[1;32m----> 3\u001b[0m StreamlitPatcher()\u001b[38;5;241m.\u001b[39mjupyter()\n",
      "File \u001b[1;32m~\\anaconda3\\Lib\\site-packages\\streamlit_jupyter\\core.py:53\u001b[0m, in \u001b[0;36mStreamlitPatcher.jupyter\u001b[1;34m(self)\u001b[0m\n\u001b[0;32m     51\u001b[0m \u001b[38;5;66;03m# patch streamlit methods from MAPPING property dict\u001b[39;00m\n\u001b[0;32m     52\u001b[0m \u001b[38;5;28;01mfor\u001b[39;00m method_name, wrapper \u001b[38;5;129;01min\u001b[39;00m \u001b[38;5;28mself\u001b[39m\u001b[38;5;241m.\u001b[39mMAPPING\u001b[38;5;241m.\u001b[39mitems():\n\u001b[1;32m---> 53\u001b[0m     \u001b[38;5;28mself\u001b[39m\u001b[38;5;241m.\u001b[39m_wrap(method_name, wrapper)\n\u001b[0;32m     55\u001b[0m \u001b[38;5;28mself\u001b[39m\u001b[38;5;241m.\u001b[39mis_registered \u001b[38;5;241m=\u001b[39m \u001b[38;5;28;01mTrue\u001b[39;00m\n",
      "File \u001b[1;32m~\\anaconda3\\Lib\\site-packages\\streamlit_jupyter\\core.py:79\u001b[0m, in \u001b[0;36m_wrap\u001b[1;34m(cls, method_name, wrapper)\u001b[0m\n\u001b[0;32m     69\u001b[0m \u001b[38;5;250m\u001b[39m\u001b[38;5;124;03m\"\"\"make a streamlit method jupyter friendly\u001b[39;00m\n\u001b[0;32m     70\u001b[0m \n\u001b[0;32m     71\u001b[0m \u001b[38;5;124;03mParameters\u001b[39;00m\n\u001b[1;32m   (...)\u001b[0m\n\u001b[0;32m     76\u001b[0m \u001b[38;5;124;03m    wrapper function to use\u001b[39;00m\n\u001b[0;32m     77\u001b[0m \u001b[38;5;124;03m\"\"\"\u001b[39;00m\n\u001b[0;32m     78\u001b[0m \u001b[38;5;28;01mif\u001b[39;00m IN_IPYTHON:  \u001b[38;5;66;03m# only patch if in jupyter\u001b[39;00m\n\u001b[1;32m---> 79\u001b[0m     trg \u001b[38;5;241m=\u001b[39m \u001b[38;5;28mgetattr\u001b[39m(st, method_name)  \u001b[38;5;66;03m# get the streamlit method\u001b[39;00m\n\u001b[0;32m     80\u001b[0m     \u001b[38;5;28msetattr\u001b[39m(st, method_name, wrapper(trg))  \u001b[38;5;66;03m# patch the method\u001b[39;00m\n\u001b[0;32m     81\u001b[0m     \u001b[38;5;28mcls\u001b[39m\u001b[38;5;241m.\u001b[39mregistered_methods\u001b[38;5;241m.\u001b[39madd(method_name)\n",
      "\u001b[1;31mAttributeError\u001b[0m: module 'streamlit' has no attribute 'experimental_data_editor'"
     ]
    }
   ],
   "source": [
    "import streamlit as st\n",
    "from streamlit_jupyter import StreamlitPatcher, tqdm\n",
    "StreamlitPatcher().jupyter()"
   ]
  },
  {
   "cell_type": "code",
   "execution_count": 21,
   "id": "db1f4444-6895-445d-a8fe-682f77d28421",
   "metadata": {},
   "outputs": [
    {
     "data": {
      "text/plain": [
       "[Document(metadata={'source': 'nvda_news_1.txt'}, page_content=\"The stock of NVIDIA Corp (NASDAQ:NVDA) experienced a daily loss of -3.56% and a 3-month gain of 32.35%. With an Earnings Per Share (EPS) (EPS) of $1.92, the question arises: is the stock significantly overvalued? This article aims to provide a detailed valuation analysis of NVIDIA, offering insights into its financial strength, profitability, growth, and more. We invite you to delve into this comprehensive analysis.\\n\\nCompany Overview\\nWarning! GuruFocus has detected 10 Warning Signs with NVDA. Click here to check it out.\\n\\nNVDA 30-Year Financial Data\\n\\nThe intrinsic value of NVDA\\n\\n\\nNVIDIA Corp (NASDAQ:NVDA) is a leading designer of discrete graphics processing units that enhance the experience on computing platforms. The firm's chips are widely used in various end markets, including PC gaming and data centers. In recent years, NVIDIA has broadened its focus from traditional PC graphics applications such as gaming to more complex and favorable opportunities, including artificial intelligence and autonomous driving, leveraging the high-performance capabilities of its products.\\n\\nCurrently, NVIDIA's stock price stands at $418.01, significantly higher than the GF Value of $310.28, indicating the stock might be overvalued. With a market cap of $1 trillion, the valuation seems steep. The following analysis aims to delve deeper into the company's value.\\n\\nIs NVIDIA's Stock Significantly Overvalued? A Comprehensive Valuation Analysis\\nIs NVIDIA's Stock Significantly Overvalued? A Comprehensive Valuation Analysis\\nUnderstanding the GF Value\\nThe GF Value is a unique measure of the intrinsic value of a stock, calculated based on historical trading multiples, a GuruFocus adjustment factor, and future business performance estimates. If the stock price is significantly above the GF Value Line, it is overvalued, and its future return is likely to be poor. Conversely, if it is significantly below the GF Value Line, its future return will likely be higher.\\n\\nAccording to GuruFocus Value calculation, NVIDIA (NASDAQ:NVDA) appears to be significantly overvalued. The stock's current price of $418.01 per share and the market cap of $1 trillion further strengthen this assumption.\\n\\nGiven that NVIDIA is significantly overvalued, the long-term return of its stock is likely to be much lower than its future business growth.\\n\\nIs NVIDIA's Stock Significantly Overvalued? A Comprehensive Valuation Analysis\\nIs NVIDIA's Stock Significantly Overvalued? A Comprehensive Valuation Analysis\\nLink: These companies may deliver higher future returns at reduced risk.\\n\\nFinancial Strength of NVIDIA\\nExamining the financial strength of a company is crucial before investing in its stock. Companies with poor financial strength pose a higher risk of permanent loss. NVIDIA's cash-to-debt ratio of 1.27 is worse than 58.04% of companies in the Semiconductors industry. However, NVIDIA's overall financial strength is 8 out of 10, indicating a strong financial position.\\n\\nIs NVIDIA's Stock Significantly Overvalued? A Comprehensive Valuation Analysis\\nIs NVIDIA's Stock Significantly Overvalued? A Comprehensive Valuation Analysis\\nProfitability and Growth\\nConsistent profitability over the long term reduces the risk for investors. NVIDIA, with its profitability ranking of 10 out of 10, has been profitable for the past 10 years. The company's operating margin of 17.37% ranks better than 76.5% of companies in the Semiconductors industry.\\n\\nHowever, growth is a crucial factor in a company's valuation. NVIDIA's growth ranks worse than 52.99% of companies in the Semiconductors industry, with its 3-year average revenue growth rate better than 87.88% of companies in the industry.\\n\\nROIC vs WACC\\nComparing a company's return on invested capital (ROIC) to its weighted average cost of capital (WACC) is an effective way to evaluate its profitability. Over the past 12 months, NVIDIA's ROIC was 20.32 while its WACC was 16.74, suggesting that the company is creating value for its shareholders.\\n\\nIs NVIDIA's Stock Significantly Overvalued? A Comprehensive Valuation Analysis\\nIs NVIDIA's Stock Significantly Overvalued? A Comprehensive Valuation Analysis\\nConclusion\\nIn conclusion, NVIDIA (NASDAQ:NVDA) appears to be significantly overvalued. Despite its strong financial condition and profitability, its growth ranks lower than 52.99% of companies in the Semiconductors industry. To learn more about NVIDIA stock, you can check out its 30-Year Financials here.\\n\\nTo find out the high quality companies that may deliver above-average returns, please check out GuruFocus High Quality Low Capex Screener.\\n\\nThis article first appeared on GuruFocus.\")]"
      ]
     },
     "execution_count": 21,
     "metadata": {},
     "output_type": "execute_result"
    }
   ],
   "source": [
    "loader = TextLoader(\"nvda_news_1.txt\")\n",
    "docs = loader.load()\n",
    "docs"
   ]
  },
  {
   "cell_type": "code",
   "execution_count": 22,
   "id": "8094608d-7e98-4014-b690-29ad5d9bfc99",
   "metadata": {},
   "outputs": [
    {
     "data": {
      "text/plain": [
       "\"The stock of NVIDIA Corp (NASDAQ:NVDA) experienced a daily loss of -3.56% and a 3-month gain of 32.35%. With an Earnings Per Share (EPS) (EPS) of $1.92, the question arises: is the stock significantly overvalued? This article aims to provide a detailed valuation analysis of NVIDIA, offering insights into its financial strength, profitability, growth, and more. We invite you to delve into this comprehensive analysis.\\n\\nCompany Overview\\nWarning! GuruFocus has detected 10 Warning Signs with NVDA. Click here to check it out.\\n\\nNVDA 30-Year Financial Data\\n\\nThe intrinsic value of NVDA\\n\\n\\nNVIDIA Corp (NASDAQ:NVDA) is a leading designer of discrete graphics processing units that enhance the experience on computing platforms. The firm's chips are widely used in various end markets, including PC gaming and data centers. In recent years, NVIDIA has broadened its focus from traditional PC graphics applications such as gaming to more complex and favorable opportunities, including artificial intelligence and autonomous driving, leveraging the high-performance capabilities of its products.\\n\\nCurrently, NVIDIA's stock price stands at $418.01, significantly higher than the GF Value of $310.28, indicating the stock might be overvalued. With a market cap of $1 trillion, the valuation seems steep. The following analysis aims to delve deeper into the company's value.\\n\\nIs NVIDIA's Stock Significantly Overvalued? A Comprehensive Valuation Analysis\\nIs NVIDIA's Stock Significantly Overvalued? A Comprehensive Valuation Analysis\\nUnderstanding the GF Value\\nThe GF Value is a unique measure of the intrinsic value of a stock, calculated based on historical trading multiples, a GuruFocus adjustment factor, and future business performance estimates. If the stock price is significantly above the GF Value Line, it is overvalued, and its future return is likely to be poor. Conversely, if it is significantly below the GF Value Line, its future return will likely be higher.\\n\\nAccording to GuruFocus Value calculation, NVIDIA (NASDAQ:NVDA) appears to be significantly overvalued. The stock's current price of $418.01 per share and the market cap of $1 trillion further strengthen this assumption.\\n\\nGiven that NVIDIA is significantly overvalued, the long-term return of its stock is likely to be much lower than its future business growth.\\n\\nIs NVIDIA's Stock Significantly Overvalued? A Comprehensive Valuation Analysis\\nIs NVIDIA's Stock Significantly Overvalued? A Comprehensive Valuation Analysis\\nLink: These companies may deliver higher future returns at reduced risk.\\n\\nFinancial Strength of NVIDIA\\nExamining the financial strength of a company is crucial before investing in its stock. Companies with poor financial strength pose a higher risk of permanent loss. NVIDIA's cash-to-debt ratio of 1.27 is worse than 58.04% of companies in the Semiconductors industry. However, NVIDIA's overall financial strength is 8 out of 10, indicating a strong financial position.\\n\\nIs NVIDIA's Stock Significantly Overvalued? A Comprehensive Valuation Analysis\\nIs NVIDIA's Stock Significantly Overvalued? A Comprehensive Valuation Analysis\\nProfitability and Growth\\nConsistent profitability over the long term reduces the risk for investors. NVIDIA, with its profitability ranking of 10 out of 10, has been profitable for the past 10 years. The company's operating margin of 17.37% ranks better than 76.5% of companies in the Semiconductors industry.\\n\\nHowever, growth is a crucial factor in a company's valuation. NVIDIA's growth ranks worse than 52.99% of companies in the Semiconductors industry, with its 3-year average revenue growth rate better than 87.88% of companies in the industry.\\n\\nROIC vs WACC\\nComparing a company's return on invested capital (ROIC) to its weighted average cost of capital (WACC) is an effective way to evaluate its profitability. Over the past 12 months, NVIDIA's ROIC was 20.32 while its WACC was 16.74, suggesting that the company is creating value for its shareholders.\\n\\nIs NVIDIA's Stock Significantly Overvalued? A Comprehensive Valuation Analysis\\nIs NVIDIA's Stock Significantly Overvalued? A Comprehensive Valuation Analysis\\nConclusion\\nIn conclusion, NVIDIA (NASDAQ:NVDA) appears to be significantly overvalued. Despite its strong financial condition and profitability, its growth ranks lower than 52.99% of companies in the Semiconductors industry. To learn more about NVIDIA stock, you can check out its 30-Year Financials here.\\n\\nTo find out the high quality companies that may deliver above-average returns, please check out GuruFocus High Quality Low Capex Screener.\\n\\nThis article first appeared on GuruFocus.\""
      ]
     },
     "execution_count": 22,
     "metadata": {},
     "output_type": "execute_result"
    }
   ],
   "source": [
    "data[0].page_content"
   ]
  },
  {
   "cell_type": "code",
   "execution_count": 23,
   "id": "ace75911-1f8d-4f02-9c2e-f083b46277f9",
   "metadata": {},
   "outputs": [],
   "source": [
    "from langchain_community.document_loaders.csv_loader import CSVLoader"
   ]
  },
  {
   "cell_type": "code",
   "execution_count": 33,
   "id": "27d73757-1f62-441a-91e7-0dbd444776c5",
   "metadata": {},
   "outputs": [],
   "source": [
    "loader = CSVLoader(\"movies.csv\", source_column=\"title\")"
   ]
  },
  {
   "cell_type": "code",
   "execution_count": 36,
   "id": "9da4e3fc-e245-44c0-8fcf-507354f361b5",
   "metadata": {},
   "outputs": [],
   "source": [
    "data= loader.load()"
   ]
  },
  {
   "cell_type": "code",
   "execution_count": 37,
   "id": "332f7aac-dc5c-4e9f-bf54-0ec364b50b18",
   "metadata": {},
   "outputs": [
    {
     "data": {
      "text/plain": [
       "[Document(metadata={'source': 'K.G.F: Chapter 2', 'row': 0}, page_content='movie_id: 101\\ntitle: K.G.F: Chapter 2\\nindustry: Bollywood\\nrelease_year: 2022\\nimdb_rating: 8.4\\nstudio: Hombale Films\\nlanguage_id: 3\\nbudget: 1\\nrevenue: 12.5\\nunit: Billions\\ncurrency: INR'),\n",
       " Document(metadata={'source': 'Doctor Strange in the Multiverse of Madness', 'row': 1}, page_content='movie_id: 102\\ntitle: Doctor Strange in the Multiverse of Madness\\nindustry: Hollywood\\nrelease_year: 2022\\nimdb_rating: 7\\nstudio: Marvel Studios\\nlanguage_id: 5\\nbudget: 200\\nrevenue: 954.8\\nunit: Millions\\ncurrency: USD'),\n",
       " Document(metadata={'source': 'Thor: The Dark World', 'row': 2}, page_content='movie_id: 103\\ntitle: Thor: The Dark World\\nindustry: Hollywood\\nrelease_year: 2013\\nimdb_rating: 6.8\\nstudio: Marvel Studios\\nlanguage_id: 5\\nbudget: 165\\nrevenue: 644.8\\nunit: Millions\\ncurrency: USD'),\n",
       " Document(metadata={'source': 'Thor: Ragnarok', 'row': 3}, page_content='movie_id: 104\\ntitle: Thor: Ragnarok\\nindustry: Hollywood\\nrelease_year: 2017\\nimdb_rating: 7.9\\nstudio: Marvel Studios\\nlanguage_id: 5\\nbudget: 180\\nrevenue: 854\\nunit: Millions\\ncurrency: USD'),\n",
       " Document(metadata={'source': 'Thor: Love and Thunder', 'row': 4}, page_content='movie_id: 105\\ntitle: Thor: Love and Thunder\\nindustry: Hollywood\\nrelease_year: 2022\\nimdb_rating: 6.8\\nstudio: Marvel Studios\\nlanguage_id: 5\\nbudget: 250\\nrevenue: 670\\nunit: Millions\\ncurrency: USD'),\n",
       " Document(metadata={'source': 'Sholay', 'row': 5}, page_content='movie_id: 106\\ntitle: Sholay\\nindustry: Bollywood\\nrelease_year: 1975\\nimdb_rating: 8.1\\nstudio: United Producers\\nlanguage_id: 1\\nbudget: Not Available\\nrevenue: Not Available\\nunit: Not Available\\ncurrency: Not Available'),\n",
       " Document(metadata={'source': 'Dilwale Dulhania Le Jayenge', 'row': 6}, page_content='movie_id: 107\\ntitle: Dilwale Dulhania Le Jayenge\\nindustry: Bollywood\\nrelease_year: 1995\\nimdb_rating: 8\\nstudio: Yash Raj Films\\nlanguage_id: 1\\nbudget: 400\\nrevenue: 2000\\nunit: Millions\\ncurrency: INR'),\n",
       " Document(metadata={'source': '3 Idiots', 'row': 7}, page_content='movie_id: 108\\ntitle: 3 Idiots\\nindustry: Bollywood\\nrelease_year: 2009\\nimdb_rating: 8.4\\nstudio: Vinod Chopra Films\\nlanguage_id: 1\\nbudget: 550\\nrevenue: 4000\\nunit: Millions\\ncurrency: INR'),\n",
       " Document(metadata={'source': 'Kabhi Khushi Kabhie Gham', 'row': 8}, page_content='movie_id: 109\\ntitle: Kabhi Khushi Kabhie Gham\\nindustry: Bollywood\\nrelease_year: 2001\\nimdb_rating: 7.4\\nstudio: Dharma Productions\\nlanguage_id: 1\\nbudget: 390\\nrevenue: 1360\\nunit: Millions\\ncurrency: INR')]"
      ]
     },
     "execution_count": 37,
     "metadata": {},
     "output_type": "execute_result"
    }
   ],
   "source": [
    "data\n"
   ]
  },
  {
   "cell_type": "code",
   "execution_count": 38,
   "id": "b5a28260-4082-4417-950d-d96decf2c001",
   "metadata": {},
   "outputs": [
    {
     "data": {
      "text/plain": [
       "9"
      ]
     },
     "execution_count": 38,
     "metadata": {},
     "output_type": "execute_result"
    }
   ],
   "source": [
    "len(data)\n"
   ]
  },
  {
   "cell_type": "code",
   "execution_count": 39,
   "id": "bbce3c7a-aeee-43eb-ab1f-31c5aa546e07",
   "metadata": {},
   "outputs": [
    {
     "data": {
      "text/plain": [
       "'movie_id: 101\\ntitle: K.G.F: Chapter 2\\nindustry: Bollywood\\nrelease_year: 2022\\nimdb_rating: 8.4\\nstudio: Hombale Films\\nlanguage_id: 3\\nbudget: 1\\nrevenue: 12.5\\nunit: Billions\\ncurrency: INR'"
      ]
     },
     "execution_count": 39,
     "metadata": {},
     "output_type": "execute_result"
    }
   ],
   "source": [
    "data[0].page_content\n"
   ]
  },
  {
   "cell_type": "code",
   "execution_count": 40,
   "id": "bcb95fa6-5962-4913-8ec9-f246f9e9a8e7",
   "metadata": {},
   "outputs": [
    {
     "data": {
      "text/plain": [
       "langchain_core.documents.base.Document"
      ]
     },
     "execution_count": 40,
     "metadata": {},
     "output_type": "execute_result"
    }
   ],
   "source": [
    "type(data[0])"
   ]
  },
  {
   "cell_type": "code",
   "execution_count": 41,
   "id": "8a4d7979-37f0-4ef6-9543-f83a24cbdb07",
   "metadata": {},
   "outputs": [
    {
     "data": {
      "text/plain": [
       "Document(metadata={'source': 'K.G.F: Chapter 2', 'row': 0}, page_content='movie_id: 101\\ntitle: K.G.F: Chapter 2\\nindustry: Bollywood\\nrelease_year: 2022\\nimdb_rating: 8.4\\nstudio: Hombale Films\\nlanguage_id: 3\\nbudget: 1\\nrevenue: 12.5\\nunit: Billions\\ncurrency: INR')"
      ]
     },
     "execution_count": 41,
     "metadata": {},
     "output_type": "execute_result"
    }
   ],
   "source": [
    "data[0]"
   ]
  },
  {
   "cell_type": "code",
   "execution_count": 46,
   "id": "75d7f3b8-1433-4436-af7a-8008be8ac7b8",
   "metadata": {},
   "outputs": [
    {
     "data": {
      "text/plain": [
       "{'source': 'Thor: Love and Thunder', 'row': 4}"
      ]
     },
     "execution_count": 46,
     "metadata": {},
     "output_type": "execute_result"
    }
   ],
   "source": [
    "data[4].metadata   #in the index you can define and check the values, in the loader cell define the source_column as by checking the column in the file and what output you want to print "
   ]
  },
  {
   "cell_type": "code",
   "execution_count": 48,
   "id": "4265e16f-282f-4468-8c95-9864c773556c",
   "metadata": {},
   "outputs": [
    {
     "name": "stdout",
     "output_type": "stream",
     "text": [
      "Requirement already satisfied: unstructured in c:\\users\\maheshwari rathod\\anaconda3\\lib\\site-packages (0.16.20)\n",
      "Requirement already satisfied: libmagic in c:\\users\\maheshwari rathod\\anaconda3\\lib\\site-packages (1.0)\n",
      "Requirement already satisfied: python-magic in c:\\users\\maheshwari rathod\\anaconda3\\lib\\site-packages (0.4.27)\n",
      "Requirement already satisfied: python-magic-bin in c:\\users\\maheshwari rathod\\anaconda3\\lib\\site-packages (0.4.14)\n",
      "Requirement already satisfied: chardet in c:\\users\\maheshwari rathod\\anaconda3\\lib\\site-packages (from unstructured) (4.0.0)\n",
      "Requirement already satisfied: filetype in c:\\users\\maheshwari rathod\\anaconda3\\lib\\site-packages (from unstructured) (1.2.0)\n",
      "Requirement already satisfied: lxml in c:\\users\\maheshwari rathod\\anaconda3\\lib\\site-packages (from unstructured) (5.2.1)\n",
      "Requirement already satisfied: nltk in c:\\users\\maheshwari rathod\\anaconda3\\lib\\site-packages (from unstructured) (3.9.1)\n",
      "Requirement already satisfied: requests in c:\\users\\maheshwari rathod\\anaconda3\\lib\\site-packages (from unstructured) (2.32.3)\n",
      "Requirement already satisfied: beautifulsoup4 in c:\\users\\maheshwari rathod\\anaconda3\\lib\\site-packages (from unstructured) (4.12.3)\n",
      "Requirement already satisfied: emoji in c:\\users\\maheshwari rathod\\anaconda3\\lib\\site-packages (from unstructured) (2.14.1)\n",
      "Requirement already satisfied: dataclasses-json in c:\\users\\maheshwari rathod\\anaconda3\\lib\\site-packages (from unstructured) (0.6.7)\n",
      "Requirement already satisfied: python-iso639 in c:\\users\\maheshwari rathod\\anaconda3\\lib\\site-packages (from unstructured) (2025.2.8)\n",
      "Requirement already satisfied: langdetect in c:\\users\\maheshwari rathod\\anaconda3\\lib\\site-packages (from unstructured) (1.0.9)\n",
      "Requirement already satisfied: numpy<2 in c:\\users\\maheshwari rathod\\anaconda3\\lib\\site-packages (from unstructured) (1.26.4)\n",
      "Requirement already satisfied: rapidfuzz in c:\\users\\maheshwari rathod\\anaconda3\\lib\\site-packages (from unstructured) (3.12.1)\n",
      "Requirement already satisfied: backoff in c:\\users\\maheshwari rathod\\anaconda3\\lib\\site-packages (from unstructured) (2.2.1)\n",
      "Requirement already satisfied: typing-extensions in c:\\users\\maheshwari rathod\\anaconda3\\lib\\site-packages (from unstructured) (4.12.2)\n",
      "Requirement already satisfied: unstructured-client in c:\\users\\maheshwari rathod\\anaconda3\\lib\\site-packages (from unstructured) (0.30.0)\n",
      "Requirement already satisfied: wrapt in c:\\users\\maheshwari rathod\\anaconda3\\lib\\site-packages (from unstructured) (1.14.1)\n",
      "Requirement already satisfied: tqdm in c:\\users\\maheshwari rathod\\anaconda3\\lib\\site-packages (from unstructured) (4.66.5)\n",
      "Requirement already satisfied: psutil in c:\\users\\maheshwari rathod\\anaconda3\\lib\\site-packages (from unstructured) (5.9.0)\n",
      "Requirement already satisfied: python-oxmsg in c:\\users\\maheshwari rathod\\anaconda3\\lib\\site-packages (from unstructured) (0.0.2)\n",
      "Requirement already satisfied: html5lib in c:\\users\\maheshwari rathod\\anaconda3\\lib\\site-packages (from unstructured) (1.1)\n",
      "Requirement already satisfied: soupsieve>1.2 in c:\\users\\maheshwari rathod\\anaconda3\\lib\\site-packages (from beautifulsoup4->unstructured) (2.5)\n",
      "Requirement already satisfied: marshmallow<4.0.0,>=3.18.0 in c:\\users\\maheshwari rathod\\anaconda3\\lib\\site-packages (from dataclasses-json->unstructured) (3.26.1)\n",
      "Requirement already satisfied: typing-inspect<1,>=0.4.0 in c:\\users\\maheshwari rathod\\anaconda3\\lib\\site-packages (from dataclasses-json->unstructured) (0.9.0)\n",
      "Requirement already satisfied: six>=1.9 in c:\\users\\maheshwari rathod\\anaconda3\\lib\\site-packages (from html5lib->unstructured) (1.16.0)\n",
      "Requirement already satisfied: webencodings in c:\\users\\maheshwari rathod\\anaconda3\\lib\\site-packages (from html5lib->unstructured) (0.5.1)\n",
      "Requirement already satisfied: click in c:\\users\\maheshwari rathod\\anaconda3\\lib\\site-packages (from nltk->unstructured) (8.1.7)\n",
      "Requirement already satisfied: joblib in c:\\users\\maheshwari rathod\\anaconda3\\lib\\site-packages (from nltk->unstructured) (1.4.2)\n",
      "Requirement already satisfied: regex>=2021.8.3 in c:\\users\\maheshwari rathod\\anaconda3\\lib\\site-packages (from nltk->unstructured) (2024.9.11)\n",
      "Requirement already satisfied: olefile in c:\\users\\maheshwari rathod\\anaconda3\\lib\\site-packages (from python-oxmsg->unstructured) (0.47)\n",
      "Requirement already satisfied: charset-normalizer<4,>=2 in c:\\users\\maheshwari rathod\\anaconda3\\lib\\site-packages (from requests->unstructured) (3.3.2)\n",
      "Requirement already satisfied: idna<4,>=2.5 in c:\\users\\maheshwari rathod\\anaconda3\\lib\\site-packages (from requests->unstructured) (3.7)\n",
      "Requirement already satisfied: urllib3<3,>=1.21.1 in c:\\users\\maheshwari rathod\\anaconda3\\lib\\site-packages (from requests->unstructured) (2.2.3)\n",
      "Requirement already satisfied: certifi>=2017.4.17 in c:\\users\\maheshwari rathod\\anaconda3\\lib\\site-packages (from requests->unstructured) (2024.8.30)\n",
      "Requirement already satisfied: colorama in c:\\users\\maheshwari rathod\\anaconda3\\lib\\site-packages (from tqdm->unstructured) (0.4.6)\n",
      "Requirement already satisfied: aiofiles>=24.1.0 in c:\\users\\maheshwari rathod\\anaconda3\\lib\\site-packages (from unstructured-client->unstructured) (24.1.0)\n",
      "Requirement already satisfied: cryptography>=3.1 in c:\\users\\maheshwari rathod\\anaconda3\\lib\\site-packages (from unstructured-client->unstructured) (43.0.0)\n",
      "Requirement already satisfied: eval-type-backport>=0.2.0 in c:\\users\\maheshwari rathod\\anaconda3\\lib\\site-packages (from unstructured-client->unstructured) (0.2.2)\n",
      "Requirement already satisfied: httpx>=0.27.0 in c:\\users\\maheshwari rathod\\anaconda3\\lib\\site-packages (from unstructured-client->unstructured) (0.27.0)\n",
      "Requirement already satisfied: nest-asyncio>=1.6.0 in c:\\users\\maheshwari rathod\\anaconda3\\lib\\site-packages (from unstructured-client->unstructured) (1.6.0)\n",
      "Requirement already satisfied: pydantic>=2.10.3 in c:\\users\\maheshwari rathod\\anaconda3\\lib\\site-packages (from unstructured-client->unstructured) (2.10.6)\n",
      "Requirement already satisfied: pypdf>=4.0 in c:\\users\\maheshwari rathod\\anaconda3\\lib\\site-packages (from unstructured-client->unstructured) (5.3.0)\n",
      "Requirement already satisfied: python-dateutil>=2.8.2 in c:\\users\\maheshwari rathod\\anaconda3\\lib\\site-packages (from unstructured-client->unstructured) (2.9.0.post0)\n",
      "Requirement already satisfied: requests-toolbelt>=1.0.0 in c:\\users\\maheshwari rathod\\anaconda3\\lib\\site-packages (from unstructured-client->unstructured) (1.0.0)\n",
      "Requirement already satisfied: cffi>=1.12 in c:\\users\\maheshwari rathod\\anaconda3\\lib\\site-packages (from cryptography>=3.1->unstructured-client->unstructured) (1.17.1)\n",
      "Requirement already satisfied: anyio in c:\\users\\maheshwari rathod\\anaconda3\\lib\\site-packages (from httpx>=0.27.0->unstructured-client->unstructured) (4.2.0)\n",
      "Requirement already satisfied: httpcore==1.* in c:\\users\\maheshwari rathod\\anaconda3\\lib\\site-packages (from httpx>=0.27.0->unstructured-client->unstructured) (1.0.2)\n",
      "Requirement already satisfied: sniffio in c:\\users\\maheshwari rathod\\anaconda3\\lib\\site-packages (from httpx>=0.27.0->unstructured-client->unstructured) (1.3.0)\n",
      "Requirement already satisfied: h11<0.15,>=0.13 in c:\\users\\maheshwari rathod\\anaconda3\\lib\\site-packages (from httpcore==1.*->httpx>=0.27.0->unstructured-client->unstructured) (0.14.0)\n",
      "Requirement already satisfied: packaging>=17.0 in c:\\users\\maheshwari rathod\\anaconda3\\lib\\site-packages (from marshmallow<4.0.0,>=3.18.0->dataclasses-json->unstructured) (24.1)\n",
      "Requirement already satisfied: annotated-types>=0.6.0 in c:\\users\\maheshwari rathod\\anaconda3\\lib\\site-packages (from pydantic>=2.10.3->unstructured-client->unstructured) (0.6.0)\n",
      "Requirement already satisfied: pydantic-core==2.27.2 in c:\\users\\maheshwari rathod\\anaconda3\\lib\\site-packages (from pydantic>=2.10.3->unstructured-client->unstructured) (2.27.2)\n",
      "Requirement already satisfied: mypy-extensions>=0.3.0 in c:\\users\\maheshwari rathod\\anaconda3\\lib\\site-packages (from typing-inspect<1,>=0.4.0->dataclasses-json->unstructured) (1.0.0)\n",
      "Requirement already satisfied: pycparser in c:\\users\\maheshwari rathod\\anaconda3\\lib\\site-packages (from cffi>=1.12->cryptography>=3.1->unstructured-client->unstructured) (2.21)\n"
     ]
    }
   ],
   "source": [
    "!pip3 install unstructured libmagic python-magic python-magic-bin\n",
    "#installing necessary libraries,llibmagic is used for file type detection"
   ]
  },
  {
   "cell_type": "code",
   "execution_count": 49,
   "id": "68e879e5-7190-4e6b-a912-b6800f2a9c92",
   "metadata": {},
   "outputs": [],
   "source": [
    "from langchain.document_loaders import UnstructuredURLLoader"
   ]
  },
  {
   "cell_type": "code",
   "execution_count": 65,
   "id": "16913f90-75b9-4eb7-a9fd-82455d8c9b73",
   "metadata": {},
   "outputs": [],
   "source": [
    "loader = UnstructuredURLLoader(urls=[\n",
    "    \"https://www.bing.com/search?pglt=2083&q=modi+came+to+united+states&cvid=3d1ee12d144e4328a04b269da631ab6a&gs_lcrp=EgRlZGdlKgYIABBFGDkyBggAEEUYOTIGCAEQABhAMgYIAhAAGEAyBggDEAAYQDIGCAQQABhAMgYIBRAAGEAyBggGEAAYQDIGCAcQABhAMgYICBAAGEAyCAgJEOkHGPxV0gEINDQ1MmowajGoAgCwAgA&FORM=ANNAB1&PC=HCTS\",\n",
    "    \"https://www.bing.com/search?pglt=2083&q=sanam+teri+kasam+rerelease&cvid=668f3e69ea8a40dfa061cf8cb3923966&gs_lcrp=EgRlZGdlKgYIABBFGDkyBggAEEUYOTIGCAEQABhAMgYIAhAAGEAyBggDEAAYQDIGCAQQABhAMgYIBRAAGEAyBggGEAAYQDIGCAcQABhAMgYICBAAGEAyCAgJEOkHGPxV0gEINjg2OGowajGoAgiwAgE&FORM=ANNAB1&PC=HCTS\",\n",
    "    \"https://www.bing.com/search?q=data%20analyst%20skills&qs=n&form=QBRE&sp=-1&ghc=1&lq=0&pq=data%20analyst%20skill&sc=12-18&sk=&cvid=8D79DF1CE7AE4CFFBE8E7F1DB1ACC923&ghsh=0&ghacc=0&ghpl=\"\n",
    "])"
   ]
  },
  {
   "cell_type": "code",
   "execution_count": 66,
   "id": "42afe8ca-3720-4e8b-b7da-4e2b5e76b413",
   "metadata": {},
   "outputs": [
    {
     "data": {
      "text/plain": [
       "3"
      ]
     },
     "execution_count": 66,
     "metadata": {},
     "output_type": "execute_result"
    }
   ],
   "source": [
    "data = loader.load()\n",
    "len(data)"
   ]
  },
  {
   "cell_type": "code",
   "execution_count": 69,
   "id": "10872f35-f095-48c2-a387-c30a23f1a2af",
   "metadata": {},
   "outputs": [],
   "source": [
    "#Take some random wikipidea article\n",
    "text = \"\"\"Sadhguru (born Jagadish \"Jaggi\" Vasudev, 3 September 1957) is an Indian guru and founder of the Isha Foundation, based in Coimbatore, India. The foundation, established in 1992, operates an ashram and yoga centre that carries out educational and spiritual activities. Sadhguru has been teaching yoga since 1982. He is the author of the New York Times bestsellers Inner Engineering: A Yogi's Guide to Joy and Karma: A Yogi's Guide to Crafting Your Destiny, and a frequent speaker at international forums.\n",
    "\n",
    "Sadhguru also advocates for protecting the environment against climate change, leading many initiatives like Project GreenHands (PGH), Rally for Rivers, Cauvery Calling, and the Journey to Save Soil. In 2017, he received the Padma Vibhushan, India's second-highest civilian award, for his contributions to spirituality and humanitarian services.\n",
    "\n",
    "Sadhguru has been criticized for promoting a number of pseudoscientific claims\n",
    "After graduating from the University of Mysore, Vasudev went on to build his first business, a poultry farm, in Mysore.[9] Vasudev explained that his motivation to start a poultry farm was driven by the serenity it yielded in the hours he was not working.[7] The business required minimal attention throughout the day, so Vasudev was able to pursue other interests during his time off, like writing poetry.[7] The business grew profitable, but his family repeatedly criticized and opposed his decision to work with poultry.[7] This led Vasudev to enter the construction industry with a company named Buildaids.[7] He started the company in partnership with a friend, who was a civil engineer. Though Vasudev had no formal engineering training, he used the experience gained from building his poultry farm in his new endeavour.[7]\n",
    "\n",
    "At the age of 25, after a series of spiritual experiences, he shut down his businesses and began to travel and teach yoga.[7][8]\n",
    "\n",
    "\n",
    "Vasudev with his wife, Vijaykumari\n",
    "In 1983, he taught his first yoga class, in Mysore. He began travelling across Karnataka and Hyderabad on his motorcycle, conducting his style of yoga classes, known as Sahaja Sthiti Yoga, subsisting on the income from his poultry farm rental and donating the funds received from his students.[8]\n",
    "\n",
    "Also in 2017, Sadhguru consecrated the Adiyogi Shiva statue, the world's largest bust, in Coimbatore, India.\"\"\"\n"
   ]
  },
  {
   "cell_type": "code",
   "execution_count": 81,
   "id": "164184c6-5a0d-4a9d-8cd5-862790647e34",
   "metadata": {},
   "outputs": [
    {
     "data": {
      "text/plain": [
       "'Sadhguru (born Jagadish \"Jaggi\" Vasudev, 3 September 1957) is an Indian guru and founder of the Isha Foundation, based in Coimbatore, India. The foundation, established in 1992, operates an ashram and'"
      ]
     },
     "execution_count": 81,
     "metadata": {},
     "output_type": "execute_result"
    }
   ],
   "source": [
    "text[:200]"
   ]
  },
  {
   "cell_type": "code",
   "execution_count": 83,
   "id": "03b2e9af-5205-4aec-bd37-23d68a2099b7",
   "metadata": {},
   "outputs": [
    {
     "name": "stdout",
     "output_type": "stream",
     "text": [
      "Data Loaded [Document(metadata={'source': 'https://www.bing.com/search?pglt=2083&q=modi+came+to+united+states&cvid=3d1ee12d144e4328a04b269da631ab6a&gs_lcrp=EgRlZGdlKgYIABBFGDkyBggAEEUYOTIGCAEQABhAMgYIAhAAGEAyBggDEAAYQDIGCAQQABhAMgYIBRAAGEAyBggGEAAYQDIGCAcQABhAMgYICBAAGEAyCAgJEOkHGPxV0gEINDQ1MmowajGoAgCwAgA&FORM=ANNAB1&PC=HCTS'}, page_content=\"About 38,300,000 results\\n\\nOpen links in new tab\\n\\nAny time\\n\\ncnn.com\\n\\nhttps://www.cnn.com › india › india-narendra...\\n\\nHow Modi went from being banned to embraced by the United States\\n\\nJun 21, 2023 · Indian Prime Minister Narendra Modi was once shunned by the United States. Denied a visa for “severe violations of religious freedom,” he was effectively banned from entering the country for...\\n\\nbbc.com\\n\\nhttps://www.bbc.com › news\\n\\nModi US visit: Why Washington is rolling out the red carpet for ... - BBC\\n\\nJun 21, 2023 · Indian Prime Minister Narendra Modi's visit to the US has assumed huge significance amid global economic and geopolitical headwinds. The White House is pulling out all the stops to welcome Mr...\\n\\nhindustantimes.com\\n\\nhttps://www.hindustantimes.com › india-news › pm...\\n\\nNarendra Modi US visit highlights: Modi, Trump sign deal to …\\n\\n2 days ago · Right before meeting PM Modi, US President Donald Trump announced reciprocal tariffs, stating that the United States will levy same charges as countries impose on it, singling out India as one of ...\\n\\nindianexpress.com\\n\\nhttps://indianexpress.com › article › world › pm-modi-us...\\n\\nPM Narendra Modi US Visit Live Updates: ‘Substantive and …\\n\\n3 days ago · Immigration and Deportation: Ahead of PM Modi’s visit confirmation to the United States, the Donald Trump administration sent back a first batch of 104 Indian illegal immigrants who were chained and boarded on a military aircraft. According to reports, another 800 individuals, 487 Indian citizens and 298 others in the final stages of verification are bound to …\\n\\nthehindubusinessline.com\\n\\nhttps://www.thehindubusinessline.com › news › pm...\\n\\nPM Modi Trump Meeting Live News Updates: Modi, Trump …\\n\\n1 day ago · Indian Prime Minster Narendra Modi said on Thursday the United States and India have set a target of doubling their bilateral trade to $500 billion by 2030 and will work on concluding a mutually ...\\n\\nindianexpress.com\\n\\nhttps://indianexpress.com › article › india\\n\\nPM Modi’s US visit: from attending Quad Summit ... - The Indian …\\n\\nSep 24, 2024 · PM Modi addressed a gathering of over 13,000 Indian Americans, with many attendees hailing from the New York and New Jersey area, while others travelled from 40 states across the country. Organisers reported that sixty chartered buses were used for transportation.\\n\\nnytimes.com\\n\\nhttps://www.nytimes.com › live › us › modi-biden-visit\\n\\nModi State Visit: Modi Promotes India to Congress After Meeting …\\n\\nJun 22, 2023 · President Biden emphasized common ground with Prime Minister Narendra Modi of India on Thursday during a lavish state visit meant to bolster ties with the world’s most populous nation, while...\\n\\napnews.com\\n\\nhttps://apnews.com › article\\n\\nIndia Prime Minister's US visit brings him to New York and …\\n\\nSep 23, 2024 · Indian Prime Minister Narendra Modi's visit to the United States has brought him to New York. On Sunday, Modi addressed an estimated 13,000 people at a cultural celebration at Long Island's Nassau Coliseum.\\n\\nthehindu.com\\n\\nhttps://www.thehindu.com › news › national\\n\\nPM Modi US visit highlights: Modi says U.S. and India target $500 ...\\n\\n2 days ago · Prime Minster Narendra Modi said on Thursday the United States and India have set a target of doubling their bilateral trade to $500 billion by 2030 and will work on concluding a mutually ...\\n\\napnews.com\\n\\nhttps://apnews.com › article\\n\\nBiden and Modi cheer booming economic ties in visit that also …\\n\\nJun 22, 2023 · President Joe Biden has pronounced the U.S.-India relationship never stronger and rolled out a series of new business deals in welcoming Indian Prime Minister Narendra Modi for a state visit.\\n\\nSome results have been removed\"), Document(metadata={'source': 'https://www.bing.com/search?pglt=2083&q=sanam+teri+kasam+rerelease&cvid=668f3e69ea8a40dfa061cf8cb3923966&gs_lcrp=EgRlZGdlKgYIABBFGDkyBggAEEUYOTIGCAEQABhAMgYIAhAAGEAyBggDEAAYQDIGCAQQABhAMgYIBRAAGEAyBggGEAAYQDIGCAcQABhAMgYICBAAGEAyCAgJEOkHGPxV0gEINjg2OGowajGoAgiwAgE&FORM=ANNAB1&PC=HCTS'}, page_content='About 525,000 results\\n\\nOpen links in new tab\\n\\nAny time\\n\\nindianexpress.com\\n\\nhttps://indianexpress.com › article › entertainment › ...\\n\\nSanam Teri Kasam makes history with its re-release, surpasses its ...\\n\\n6 days ago · Sanam Teri Kasam earned Rs. 4.25 crore on Day 1 of its re-release, more than three times its original opening day box office collection. On Day 2, the film saw a significant jump of …\\n\\nindiatimes.com\\n\\nhttps://economictimes.indiatimes.com › magazines › ...\\n\\nSanam Teri Kasam sets new record for biggest Bollywood re-release ...\\n\\n4 days ago · Sanam Teri Kasam, starring Harshvardhan Rane and Mawra Hocane, has become a surprise hit during its re-release, coinciding with Valentines Week. The film garnered Rs 15.50 …\\n\\nfilmfare.com\\n\\nhttps://www.filmfare.com › news › bollywood › sanam-teri...\\n\\nSanam Teri Kasam surpasses Yeh Jawaani Hai Deewani in re-release ...\\n\\n5 days ago · The film\\'s re-release saw a massive 1,57,000 ticket bookings on its first Saturday, beating Yeh Jawaani Hai Deewani and securing the second spot for highest re-release ticket …\\n\\nindia.com\\n\\nhttps://zeenews.india.com › bollywood › sanam-teri...\\n\\nSanam Teri Kasam Returns To Theaters For Re-Release, Ahead …\\n\\nFeb 3, 2025 · Sanam Teri Kasam is set to steal hearts again! Re-releasing in theaters on 7th Feb—get ready to laugh, cry, and fall in love all over again!\" The re-release is scheduled for …\\n\\nindiatoday.in\\n\\nhttps://www.indiatoday.in › movies › bollywood › story › ...\\n\\nSanam Teri Kasam re-release box office collection Day 5 detailed …\\n\\n3 days ago · Sanam Teri Kasam re-release has made the industry take notice of Harshvardhan Rane and the genre of full-fledged romantic dramas that have been missing from the big …\\n\\nbusiness-standard.com\\n\\nhttps://www.business-standard.com › entertainment › re...\\n\\nRerelease profitable than original: Sanam Teri Kasam defies BO …\\n\\n5 days ago · Sanam Teri Kasam cemented the growing trend in Bollywood, where movies that initially underperformed but achieved success in the second life at the box office. It was proven …\\n\\npinkvilla.com\\n\\nhttps://www.pinkvilla.com › entertainment › box-office › ...\\n\\nSanam Teri Kasam Re-Release India Advance Bookings\\n\\nFeb 6, 2025 · Ahead of its re-release, Sanam Teri Kasam has sold 20k tickets in top national chains for the opening day. Harshvardhan Rane and Mawra Hocane-starrer originally hit the …\\n\\nthehindu.com\\n\\nhttps://www.thehindu.com › entertainment › movies\\n\\n‘Sanam Teri Kasam’ re-release: Film crosses initial lifetime box …\\n\\n6 days ago · According to the actor\\'s posts, Sanam Teri Kasam collected Rs 5.14 crore (net) at the box office on Friday and went on to earn Rs 6.22 crore on Saturday. The total collection of …\\n\\nindianexpress.com\\n\\nhttps://indianexpress.com › article › entertainment › ...\\n\\nSanam Teri Kasam re-release: Harshvardhan Rane reflects on …\\n\\nFeb 7, 2025 · Harshvardhan Rane and Mawra Hocane starrer Sanam Teri Kasam has been making headlines since the announcement of its re-release in theatres. Directed by Radhika …\\n\\nindiaforums.com\\n\\nhttps://www.indiaforums.com › article\\n\\n\\'Sanam Teri Kasam 2\\' officially announced with Harshvardhan …\\n\\nSep 10, 2024 · Harshvardhan Rane, who captured hearts with his performance in the original film, is all set to return as the lead in Sanam Teri Kasam 2. The project is backed by Soham …\\n\\nRefresh'), Document(metadata={'source': 'https://www.bing.com/search?q=data%20analyst%20skills&qs=n&form=QBRE&sp=-1&ghc=1&lq=0&pq=data%20analyst%20skill&sc=12-18&sk=&cvid=8D79DF1CE7AE4CFFBE8E7F1DB1ACC923&ghsh=0&ghacc=0&ghpl='}, page_content=\"About 16,200,000 results\\n\\nOpen links in new tab\\n\\nAny time\\n\\nindeed.com\\n\\nhttps://www.indeed.com › ... › skills-for-data-analyst\\n\\n18 Key Data Analyst Skills To Get You Hired in 2024\\n\\nMar 11, 2024 · Explore 18 key skills for a data analyst, from SQL knowledge to research, that you can develop to be successful in this position.\\n\\ncoursera.org\\n\\nhttps://www.coursera.org › articles › in-demand-data...\\n\\n7 In-Demand Data Analyst Skills to Get You Hired in 2025\\n\\nJan 6, 2025 · Learn data analyst skills on Coursera. Start building many of these data analyst job-ready skills with the Meta Data Analyst Professional Certificate. You'll learn how to use statistical analysis, including hypothesis testing, regression analysis, and …\\n\\nforbes.com\\n\\nhttps://www.forbes.com › ...\\n\\nSix Must-Have Skills To Thrive As A Data Analyst In 2025 - Forbes\\n\\nDec 27, 2024 · In my experience, true excellence in data analysis is rooted in a set of traits that enable professionals to uncover insights and drive business decisions. Here’s a look at six key traits that...\\n\\n365datascience.com\\n\\nhttps://365datascience.com › ... › data-analyst-skills\\n\\nTop 10 Data Analyst Skills You Need to Land a Job (2025)\\n\\nJan 31, 2025 · Understanding what data analyst skills are needed is crucial for success. This guide covers the top 10 data analytics basics that employers look for when hiring data analysts, from basic statistics for data analysis to data visualization. Let's explore how you can become a data analyst in 2025.\\n\\ndatacamp.com\\n\\nhttps://www.datacamp.com › blog › data-analyst-skills...\\n\\n9 Essential Data Analyst Skills: A Comprehensive Career Guide\\n\\nSep 28, 2024 · Learn essential data analyst skills, both technical and soft skills, from Python programming to effective communication, to advance your career.\\n\\ncareerfoundry.com\\n\\nhttps://careerfoundry.com › en › blog › data-analytics › ...\\n\\nThe Essential Data Analyst Skills You'll Need [2025 Guide]\\n\\nDec 7, 2022 · Here are the key data analyst skills you need: 1. Excellent problem-solving skills. Problem solving is one of the most important data analyst skills you should possess. Around 90% of analytics is about critical thinking, and knowing the right questions to ask.\\n\\ncoursera.org\\n\\nhttps://www.coursera.org › gb › articles › in-demand...\\n\\n7 In-Demand Data Analyst Skills to Get You Hired in 2025\\n\\nJan 6, 2025 · Key skills for any data analyst, data analysis and synthesis allow you to organise, classify, and examine the findings from data. This can help organisations make informed decisions in several industries, including health care, …\\n\\ndataquest.io\\n\\nhttps://www.dataquest.io › blog › data-analyst-skills\\n\\n8 Data Analyst Skills Employers Want to See on Your Resume\\n\\nJan 24, 2025 · In this comprehensive guide, I'll lay out the 8 essential data analyst skills you need to succeed in a data analyst role. From data cleaning and statistical analysis to data visualization and communication, I'll break down the key competencies that will set you apart in the job market.\\n\\ncoursera.org\\n\\nhttps://www.coursera.org › ca › articles › in-demand...\\n\\n7 In-Demand Data Analyst Skills to Get You Hired in 2025\\n\\nJan 6, 2025 · Start building many of these data analyst job-ready skills with the Google Data Analytics Professional Certificate through Coursera. Learn how to clean and organize data with SQL and R, visualize with Tableau, and complete a case study for your portfolio—no prior experience or degree required.\\n\\niitk.ac.in\\n\\nhttps://eicta.iitk.ac.in › knowledge-hub › data...\\n\\nData Analyst Skills & Prerequisites in 2025: A Step-by-Step Guide\\n\\n1 day ago · Data Analyst Skills & Prerequisites: The world will produce more than 180 zettabytes of data by 2025, which is about double the quantity recorded in 2023. Businesses will increasingly require data analysts to make the best possible decisions based on such big data in …\\n\\nSome results have been removed\")]\n"
     ]
    }
   ],
   "source": [
    "print(\"Data Loaded\", data)"
   ]
  },
  {
   "cell_type": "code",
   "execution_count": 78,
   "id": "04876863-5e7a-48a3-9990-724aff900156",
   "metadata": {},
   "outputs": [
    {
     "name": "stdout",
     "output_type": "stream",
     "text": [
      "[]\n"
     ]
    }
   ],
   "source": [
    "#so the above output is discontinuing the sentence meaning in this situation I perform overlapping i might write a for loop \n",
    "chunks = []\n",
    "s = \"\"\n",
    "for word in words:\n",
    "    s += word + \" \"\n",
    "    if len(s)>200:\n",
    "        chunks.append(s)\n",
    "        s = \"\"\n",
    "chunks.append(s)"
   ]
  },
  {
   "cell_type": "code",
   "execution_count": 79,
   "id": "41e2e4e7-d8da-4f79-b1a3-7c1477c147ff",
   "metadata": {},
   "outputs": [
    {
     "data": {
      "text/plain": [
       "[]"
      ]
     },
     "execution_count": 79,
     "metadata": {},
     "output_type": "execute_result"
    }
   ],
   "source": [
    "chunks\n"
   ]
  },
  {
   "cell_type": "code",
   "execution_count": 85,
   "id": "8a28ad3b-5481-4267-aa2a-d24df2af3145",
   "metadata": {},
   "outputs": [
    {
     "name": "stdout",
     "output_type": "stream",
     "text": [
      "Data Loaded: [Document(metadata={'source': 'https://www.bing.com/search?pglt=2083&q=modi+came+to+united+states&cvid=3d1ee12d144e4328a04b269da631ab6a&gs_lcrp=EgRlZGdlKgYIABBFGDkyBggAEEUYOTIGCAEQABhAMgYIAhAAGEAyBggDEAAYQDIGCAQQABhAMgYIBRAAGEAyBggGEAAYQDIGCAcQABhAMgYICBAAGEAyCAgJEOkHGPxV0gEINDQ1MmowajGoAgCwAgA&FORM=ANNAB1&PC=HCTS'}, page_content=\"About 38,300,000 results\\n\\nOpen links in new tab\\n\\nAny time\\n\\ncnn.com\\n\\nhttps://www.cnn.com › india › india-narendra...\\n\\nHow Modi went from being banned to embraced by the United States\\n\\nJun 21, 2023 · Indian Prime Minister Narendra Modi was once shunned by the United States. Denied a visa for “severe violations of religious freedom,” he was effectively banned from entering the country for...\\n\\nbbc.com\\n\\nhttps://www.bbc.com › news\\n\\nModi US visit: Why Washington is rolling out the red carpet for ... - BBC\\n\\nJun 21, 2023 · Indian Prime Minister Narendra Modi's visit to the US has assumed huge significance amid global economic and geopolitical headwinds. The White House is pulling out all the stops to welcome Mr...\\n\\nhindustantimes.com\\n\\nhttps://www.hindustantimes.com › india-news › pm...\\n\\nNarendra Modi US visit highlights: Modi, Trump sign deal to …\\n\\n2 days ago · Right before meeting PM Modi, US President Donald Trump announced reciprocal tariffs, stating that the United States will levy same charges as countries impose on it, singling out India as one of ...\\n\\nindianexpress.com\\n\\nhttps://indianexpress.com › article › world › pm-modi-us...\\n\\nPM Narendra Modi US Visit Live Updates: ‘Substantive and …\\n\\n3 days ago · Immigration and Deportation: Ahead of PM Modi’s visit confirmation to the United States, the Donald Trump administration sent back a first batch of 104 Indian illegal immigrants who were chained and boarded on a military aircraft. According to reports, another 800 individuals, 487 Indian citizens and 298 others in the final stages of verification are bound to …\\n\\nthehindubusinessline.com\\n\\nhttps://www.thehindubusinessline.com › news › pm...\\n\\nPM Modi Trump Meeting Live News Updates: Modi, Trump …\\n\\n1 day ago · Indian Prime Minster Narendra Modi said on Thursday the United States and India have set a target of doubling their bilateral trade to $500 billion by 2030 and will work on concluding a mutually ...\\n\\nindianexpress.com\\n\\nhttps://indianexpress.com › article › india\\n\\nPM Modi’s US visit: from attending Quad Summit ... - The Indian …\\n\\nSep 24, 2024 · PM Modi addressed a gathering of over 13,000 Indian Americans, with many attendees hailing from the New York and New Jersey area, while others travelled from 40 states across the country. Organisers reported that sixty chartered buses were used for transportation.\\n\\nnytimes.com\\n\\nhttps://www.nytimes.com › live › us › modi-biden-visit\\n\\nModi State Visit: Modi Promotes India to Congress After Meeting …\\n\\nJun 22, 2023 · President Biden emphasized common ground with Prime Minister Narendra Modi of India on Thursday during a lavish state visit meant to bolster ties with the world’s most populous nation, while...\\n\\napnews.com\\n\\nhttps://apnews.com › article\\n\\nIndia Prime Minister's US visit brings him to New York and …\\n\\nSep 23, 2024 · Indian Prime Minister Narendra Modi's visit to the United States has brought him to New York. On Sunday, Modi addressed an estimated 13,000 people at a cultural celebration at Long Island's Nassau Coliseum.\\n\\nthehindu.com\\n\\nhttps://www.thehindu.com › news › national\\n\\nPM Modi US visit highlights: Modi says U.S. and India target $500 ...\\n\\n2 days ago · Prime Minster Narendra Modi said on Thursday the United States and India have set a target of doubling their bilateral trade to $500 billion by 2030 and will work on concluding a mutually ...\\n\\napnews.com\\n\\nhttps://apnews.com › article\\n\\nBiden and Modi cheer booming economic ties in visit that also …\\n\\nJun 22, 2023 · President Joe Biden has pronounced the U.S.-India relationship never stronger and rolled out a series of new business deals in welcoming Indian Prime Minister Narendra Modi for a state visit.\\n\\nSome results have been removed\"), Document(metadata={'source': 'https://www.bing.com/search?pglt=2083&q=sanam+teri+kasam+rerelease&cvid=668f3e69ea8a40dfa061cf8cb3923966&gs_lcrp=EgRlZGdlKgYIABBFGDkyBggAEEUYOTIGCAEQABhAMgYIAhAAGEAyBggDEAAYQDIGCAQQABhAMgYIBRAAGEAyBggGEAAYQDIGCAcQABhAMgYICBAAGEAyCAgJEOkHGPxV0gEINjg2OGowajGoAgiwAgE&FORM=ANNAB1&PC=HCTS'}, page_content='About 525,000 results\\n\\nOpen links in new tab\\n\\nAny time\\n\\nindianexpress.com\\n\\nhttps://indianexpress.com › article › entertainment › ...\\n\\nSanam Teri Kasam makes history with its re-release, surpasses its ...\\n\\n6 days ago · Sanam Teri Kasam earned Rs. 4.25 crore on Day 1 of its re-release, more than three times its original opening day box office collection. On Day 2, the film saw a significant jump of …\\n\\nindiatimes.com\\n\\nhttps://economictimes.indiatimes.com › magazines › ...\\n\\nSanam Teri Kasam sets new record for biggest Bollywood re-release ...\\n\\n4 days ago · Sanam Teri Kasam, starring Harshvardhan Rane and Mawra Hocane, has become a surprise hit during its re-release, coinciding with Valentines Week. The film garnered Rs 15.50 …\\n\\nfilmfare.com\\n\\nhttps://www.filmfare.com › news › bollywood › sanam-teri...\\n\\nSanam Teri Kasam surpasses Yeh Jawaani Hai Deewani in re-release ...\\n\\n5 days ago · The film\\'s re-release saw a massive 1,57,000 ticket bookings on its first Saturday, beating Yeh Jawaani Hai Deewani and securing the second spot for highest re-release ticket …\\n\\nindia.com\\n\\nhttps://zeenews.india.com › bollywood › sanam-teri...\\n\\nSanam Teri Kasam Returns To Theaters For Re-Release, Ahead …\\n\\nFeb 3, 2025 · Sanam Teri Kasam is set to steal hearts again! Re-releasing in theaters on 7th Feb—get ready to laugh, cry, and fall in love all over again!\" The re-release is scheduled for …\\n\\nindiatoday.in\\n\\nhttps://www.indiatoday.in › movies › bollywood › story › ...\\n\\nSanam Teri Kasam re-release box office collection Day 5 detailed …\\n\\n3 days ago · Sanam Teri Kasam re-release has made the industry take notice of Harshvardhan Rane and the genre of full-fledged romantic dramas that have been missing from the big …\\n\\nbusiness-standard.com\\n\\nhttps://www.business-standard.com › entertainment › re...\\n\\nRerelease profitable than original: Sanam Teri Kasam defies BO …\\n\\n5 days ago · Sanam Teri Kasam cemented the growing trend in Bollywood, where movies that initially underperformed but achieved success in the second life at the box office. It was proven …\\n\\npinkvilla.com\\n\\nhttps://www.pinkvilla.com › entertainment › box-office › ...\\n\\nSanam Teri Kasam Re-Release India Advance Bookings\\n\\nFeb 6, 2025 · Ahead of its re-release, Sanam Teri Kasam has sold 20k tickets in top national chains for the opening day. Harshvardhan Rane and Mawra Hocane-starrer originally hit the …\\n\\nthehindu.com\\n\\nhttps://www.thehindu.com › entertainment › movies\\n\\n‘Sanam Teri Kasam’ re-release: Film crosses initial lifetime box …\\n\\n6 days ago · According to the actor\\'s posts, Sanam Teri Kasam collected Rs 5.14 crore (net) at the box office on Friday and went on to earn Rs 6.22 crore on Saturday. The total collection of …\\n\\nindianexpress.com\\n\\nhttps://indianexpress.com › article › entertainment › ...\\n\\nSanam Teri Kasam re-release: Harshvardhan Rane reflects on …\\n\\nFeb 7, 2025 · Harshvardhan Rane and Mawra Hocane starrer Sanam Teri Kasam has been making headlines since the announcement of its re-release in theatres. Directed by Radhika …\\n\\nindiaforums.com\\n\\nhttps://www.indiaforums.com › article\\n\\n\\'Sanam Teri Kasam 2\\' officially announced with Harshvardhan …\\n\\nSep 10, 2024 · Harshvardhan Rane, who captured hearts with his performance in the original film, is all set to return as the lead in Sanam Teri Kasam 2. The project is backed by Soham …\\n\\nRefresh'), Document(metadata={'source': 'https://www.bing.com/search?q=data%20analyst%20skills&qs=n&form=QBRE&sp=-1&ghc=1&lq=0&pq=data%20analyst%20skill&sc=12-18&sk=&cvid=8D79DF1CE7AE4CFFBE8E7F1DB1ACC923&ghsh=0&ghacc=0&ghpl='}, page_content=\"About 16,200,000 results\\n\\nOpen links in new tab\\n\\nAny time\\n\\nindeed.com\\n\\nhttps://www.indeed.com › ... › skills-for-data-analyst\\n\\n18 Key Data Analyst Skills To Get You Hired in 2024\\n\\nMar 11, 2024 · Explore 18 key skills for a data analyst, from SQL knowledge to research, that you can develop to be successful in this position.\\n\\ncoursera.org\\n\\nhttps://www.coursera.org › articles › in-demand-data...\\n\\n7 In-Demand Data Analyst Skills to Get You Hired in 2025\\n\\nJan 6, 2025 · Learn data analyst skills on Coursera. Start building many of these data analyst job-ready skills with the Meta Data Analyst Professional Certificate. You'll learn how to use statistical analysis, including hypothesis testing, regression analysis, and …\\n\\nforbes.com\\n\\nhttps://www.forbes.com › ...\\n\\nSix Must-Have Skills To Thrive As A Data Analyst In 2025 - Forbes\\n\\nDec 27, 2024 · In my experience, true excellence in data analysis is rooted in a set of traits that enable professionals to uncover insights and drive business decisions. Here’s a look at six key traits that...\\n\\n365datascience.com\\n\\nhttps://365datascience.com › ... › data-analyst-skills\\n\\nTop 10 Data Analyst Skills You Need to Land a Job (2025)\\n\\nJan 31, 2025 · Understanding what data analyst skills are needed is crucial for success. This guide covers the top 10 data analytics basics that employers look for when hiring data analysts, from basic statistics for data analysis to data visualization. Let's explore how you can become a data analyst in 2025.\\n\\ndatacamp.com\\n\\nhttps://www.datacamp.com › blog › data-analyst-skills...\\n\\n9 Essential Data Analyst Skills: A Comprehensive Career Guide\\n\\nSep 28, 2024 · Learn essential data analyst skills, both technical and soft skills, from Python programming to effective communication, to advance your career.\\n\\ncareerfoundry.com\\n\\nhttps://careerfoundry.com › en › blog › data-analytics › ...\\n\\nThe Essential Data Analyst Skills You'll Need [2025 Guide]\\n\\nDec 7, 2022 · Here are the key data analyst skills you need: 1. Excellent problem-solving skills. Problem solving is one of the most important data analyst skills you should possess. Around 90% of analytics is about critical thinking, and knowing the right questions to ask.\\n\\ncoursera.org\\n\\nhttps://www.coursera.org › gb › articles › in-demand...\\n\\n7 In-Demand Data Analyst Skills to Get You Hired in 2025\\n\\nJan 6, 2025 · Key skills for any data analyst, data analysis and synthesis allow you to organise, classify, and examine the findings from data. This can help organisations make informed decisions in several industries, including health care, …\\n\\ndataquest.io\\n\\nhttps://www.dataquest.io › blog › data-analyst-skills\\n\\n8 Data Analyst Skills Employers Want to See on Your Resume\\n\\nJan 24, 2025 · In this comprehensive guide, I'll lay out the 8 essential data analyst skills you need to succeed in a data analyst role. From data cleaning and statistical analysis to data visualization and communication, I'll break down the key competencies that will set you apart in the job market.\\n\\ncoursera.org\\n\\nhttps://www.coursera.org › ca › articles › in-demand...\\n\\n7 In-Demand Data Analyst Skills to Get You Hired in 2025\\n\\nJan 6, 2025 · Start building many of these data analyst job-ready skills with the Google Data Analytics Professional Certificate through Coursera. Learn how to clean and organize data with SQL and R, visualize with Tableau, and complete a case study for your portfolio—no prior experience or degree required.\\n\\niitk.ac.in\\n\\nhttps://eicta.iitk.ac.in › knowledge-hub › data...\\n\\nData Analyst Skills & Prerequisites in 2025: A Step-by-Step Guide\\n\\n1 day ago · Data Analyst Skills & Prerequisites: The world will produce more than 180 zettabytes of data by 2025, which is about double the quantity recorded in 2023. Businesses will increasingly require data analysts to make the best possible decisions based on such big data in …\\n\\nSome results have been removed\")]\n",
      "Warning: Data is empty or not valid!\n",
      "Chunks Output: []\n"
     ]
    }
   ],
   "source": [
    "# Debugging print to check data\n",
    "print(\"Data Loaded:\", data)\n",
    "\n",
    "words = []  # Initialize words safely\n",
    "\n",
    "# Ensure data is not empty and contains valid text\n",
    "if data and isinstance(data[0], str) and data[0].strip():\n",
    "    words = data[0].split()\n",
    "else:\n",
    "    print(\"Warning: Data is empty or not valid!\")\n",
    "\n",
    "chunks = []\n",
    "s = \"\"\n",
    "\n",
    "for word in words:\n",
    "    s += word + \" \"\n",
    "    if len(s) > 200:\n",
    "        chunks.append(s.strip())  # Trim spaces before appending\n",
    "        s = \"\"\n",
    "\n",
    "# Append the last chunk if it has content\n",
    "if s.strip():\n",
    "    chunks.append(s.strip())\n",
    "\n",
    "print(\"Chunks Output:\", chunks)  # Check final output\n"
   ]
  },
  {
   "cell_type": "code",
   "execution_count": 94,
   "id": "51b87b9c-ff7c-4b7a-b53e-300e8a7941b0",
   "metadata": {},
   "outputs": [
    {
     "name": "stderr",
     "output_type": "stream",
     "text": [
      "Created a chunk of size 503, which is longer than the specified 200\n",
      "Created a chunk of size 345, which is longer than the specified 200\n",
      "Created a chunk of size 829, which is longer than the specified 200\n",
      "Created a chunk of size 296, which is longer than the specified 200\n"
     ]
    },
    {
     "data": {
      "text/plain": [
       "7"
      ]
     },
     "execution_count": 94,
     "metadata": {},
     "output_type": "execute_result"
    }
   ],
   "source": [
    "from langchain_text_splitters import CharacterTextSplitter\n",
    "splitter = CharacterTextSplitter(\n",
    "    separator=\"\\n\", chunk_size=200, chunk_overlap=0\n",
    ")\n",
    "chunks = splitter.split_text(text)\n",
    "len(chunks)"
   ]
  },
  {
   "cell_type": "code",
   "execution_count": 87,
   "id": "e88f0f28-6271-463d-9c0c-359edd295c16",
   "metadata": {},
   "outputs": [
    {
     "name": "stdout",
     "output_type": "stream",
     "text": [
      "Collecting tiktoken\n",
      "  Downloading tiktoken-0.9.0-cp312-cp312-win_amd64.whl.metadata (6.8 kB)\n",
      "Requirement already satisfied: regex>=2022.1.18 in c:\\users\\maheshwari rathod\\anaconda3\\lib\\site-packages (from tiktoken) (2024.9.11)\n",
      "Requirement already satisfied: requests>=2.26.0 in c:\\users\\maheshwari rathod\\anaconda3\\lib\\site-packages (from tiktoken) (2.32.3)\n",
      "Requirement already satisfied: charset-normalizer<4,>=2 in c:\\users\\maheshwari rathod\\anaconda3\\lib\\site-packages (from requests>=2.26.0->tiktoken) (3.3.2)\n",
      "Requirement already satisfied: idna<4,>=2.5 in c:\\users\\maheshwari rathod\\anaconda3\\lib\\site-packages (from requests>=2.26.0->tiktoken) (3.7)\n",
      "Requirement already satisfied: urllib3<3,>=1.21.1 in c:\\users\\maheshwari rathod\\anaconda3\\lib\\site-packages (from requests>=2.26.0->tiktoken) (2.2.3)\n",
      "Requirement already satisfied: certifi>=2017.4.17 in c:\\users\\maheshwari rathod\\anaconda3\\lib\\site-packages (from requests>=2.26.0->tiktoken) (2024.8.30)\n",
      "Downloading tiktoken-0.9.0-cp312-cp312-win_amd64.whl (894 kB)\n",
      "   ---------------------------------------- 0.0/894.9 kB ? eta -:--:--\n",
      "   ---------------------------------------- 894.9/894.9 kB 6.7 MB/s eta 0:00:00\n",
      "Installing collected packages: tiktoken\n",
      "Successfully installed tiktoken-0.9.0\n"
     ]
    }
   ],
   "source": [
    "!pip install tiktoken"
   ]
  },
  {
   "cell_type": "code",
   "execution_count": 101,
   "id": "ff0a087e-840d-4147-8054-6b6254d7937c",
   "metadata": {},
   "outputs": [
    {
     "data": {
      "text/plain": [
       "'Sadhguru (born Jagadish \"Jaggi\" Vasudev, 3 September 1957) is an Indian guru and founder of the Isha Foundation, based in Coimbatore, India. The foundation, established in 1992, operates an ashram and yoga centre that carries out educational and spiritual activities. Sadhguru has been teaching yoga since 1982. He is the author of the New York Times bestsellers Inner Engineering: A Yogi\\'s Guide to Joy and Karma: A Yogi\\'s Guide to Crafting Your Destiny, and a frequent speaker at international forums.'"
      ]
     },
     "execution_count": 101,
     "metadata": {},
     "output_type": "execute_result"
    }
   ],
   "source": [
    "chunks"
   ]
  },
  {
   "cell_type": "code",
   "execution_count": 103,
   "id": "618efcb4-e71d-450f-b7eb-0206f0079c84",
   "metadata": {},
   "outputs": [
    {
     "name": "stdout",
     "output_type": "stream",
     "text": [
      "503\n"
     ]
    }
   ],
   "source": [
    "print(len(chunks))"
   ]
  },
  {
   "cell_type": "code",
   "execution_count": 117,
   "id": "751f2349-3384-49ad-9ecf-1d2ab133223d",
   "metadata": {},
   "outputs": [
    {
     "data": {
      "text/plain": [
       "16"
      ]
     },
     "execution_count": 117,
     "metadata": {},
     "output_type": "execute_result"
    }
   ],
   "source": [
    "from langchain.text_splitter import RecursiveCharacterTextSplitter\n",
    "r_splitter = RecursiveCharacterTextSplitter(\n",
    "    separators = [\"\\n\\n\", \"\\n\", \" \"],\n",
    "    chunk_size=200,\n",
    "    chunk_overlap=0,\n",
    ")\n",
    "chunks = r_splitter.split_text(text)\n",
    "len(chunks)\n",
    "#the above seperator\\n\\n it splits double newline-paragraphs\n",
    "#\\n if no double new line then split single new line typicallly for sentences\n",
    "# sapce if no newline then it splits into spaces"
   ]
  },
  {
   "cell_type": "code",
   "execution_count": 107,
   "id": "a831e223-f6b5-4c8c-92c5-0c5f69c17487",
   "metadata": {},
   "outputs": [
    {
     "name": "stdout",
     "output_type": "stream",
     "text": [
      "200\n",
      "198\n",
      "103\n",
      "199\n",
      "145\n",
      "78\n",
      "198\n",
      "199\n",
      "194\n",
      "197\n",
      "37\n",
      "128\n",
      "34\n",
      "199\n",
      "96\n",
      "108\n"
     ]
    }
   ],
   "source": [
    "for chunk in chunks:\n",
    "    print(len(chunk))\n",
    "    #prints the len of ALL CHUNKS"
   ]
  },
  {
   "cell_type": "code",
   "execution_count": 113,
   "id": "8046768d-2272-47ca-b39e-b20823567425",
   "metadata": {},
   "outputs": [
    {
     "name": "stdout",
     "output_type": "stream",
     "text": [
      "503\n",
      "345\n",
      "908\n",
      "128\n",
      "332\n",
      "108\n"
     ]
    }
   ],
   "source": [
    "chunks = text.split(\"\\n\\n\")\n",
    "for chunk in chunks:\n",
    "    print (len(chunk))\n",
    "    "
   ]
  },
  {
   "cell_type": "code",
   "execution_count": 116,
   "id": "531be973-2633-4557-9b72-7bddb678af4b",
   "metadata": {},
   "outputs": [
    {
     "data": {
      "text/plain": [
       "'Sadhguru (born Jagadish \"Jaggi\" Vasudev, 3 September 1957) is an Indian guru and founder of the Isha Foundation, based in Coimbatore, India. The foundation, established in 1992, operates an ashram and yoga centre that carries out educational and spiritual activities. Sadhguru has been teaching yoga since 1982. He is the author of the New York Times bestsellers Inner Engineering: A Yogi\\'s Guide to Joy and Karma: A Yogi\\'s Guide to Crafting Your Destiny, and a frequent speaker at international forums.'"
      ]
     },
     "execution_count": 116,
     "metadata": {},
     "output_type": "execute_result"
    }
   ],
   "source": [
    "first_split = chunks[0]\n",
    "first_split\n",
    "#this is my first split"
   ]
  },
  {
   "cell_type": "code",
   "execution_count": 121,
   "id": "6fccfac8-3287-4219-8c41-b4adec731538",
   "metadata": {},
   "outputs": [
    {
     "data": {
      "text/plain": [
       "'Sadhguru (born Jagadish \"Jaggi\" Vasudev, 3 September 1957) is an Indian guru and founder of the Isha Foundation, based in Coimbatore, India. The foundation, established in 1992, operates an ashram and'"
      ]
     },
     "execution_count": 121,
     "metadata": {},
     "output_type": "execute_result"
    }
   ],
   "source": [
    "second_split = chunks[0]\n",
    "second_split"
   ]
  },
  {
   "cell_type": "code",
   "execution_count": 128,
   "id": "bcb964c2-8f68-4e16-ad2b-7c1d55da77c9",
   "metadata": {},
   "outputs": [],
   "source": [
    "second_split = first_split.split(\"\\n\")\n"
   ]
  },
  {
   "cell_type": "code",
   "execution_count": 130,
   "id": "afb8a651-2216-457f-a256-5a2f0b11910d",
   "metadata": {},
   "outputs": [
    {
     "name": "stdout",
     "output_type": "stream",
     "text": [
      "503\n"
     ]
    }
   ],
   "source": [
    "for chunk in second_split:\n",
    "    print(len(chunk))"
   ]
  },
  {
   "cell_type": "code",
   "execution_count": null,
   "id": "ce385fa7-897c-4cac-8363-0ccd26b94824",
   "metadata": {},
   "outputs": [],
   "source": [
    "#langchain detects that see first thing will seperate things out with using slash slash n and then it will cehck indiviual chunk\n",
    "#then yeah first one is 503 it more than the size which i have defined 200, then it will seperate that usingthe second oepratpor which is slash n"
   ]
  }
 ],
 "metadata": {
  "kernelspec": {
   "display_name": "Python 3 (ipykernel)",
   "language": "python",
   "name": "python3"
  },
  "language_info": {
   "codemirror_mode": {
    "name": "ipython",
    "version": 3
   },
   "file_extension": ".py",
   "mimetype": "text/x-python",
   "name": "python",
   "nbconvert_exporter": "python",
   "pygments_lexer": "ipython3",
   "version": "3.12.7"
  }
 },
 "nbformat": 4,
 "nbformat_minor": 5
}
